{
  "nbformat": 4,
  "nbformat_minor": 0,
  "metadata": {
    "colab": {
      "provenance": [],
      "collapsed_sections": [
        "qNCKdOqFFoIE",
        "KZcWhl4Vz1zw",
        "mBWUR9DdhUBZ",
        "1h2J1Cq6LdXB"
      ],
      "include_colab_link": true
    },
    "kernelspec": {
      "name": "python3",
      "display_name": "Python 3"
    },
    "language_info": {
      "name": "python"
    },
    "gpuClass": "standard"
  },
  "cells": [
    {
      "cell_type": "markdown",
      "metadata": {
        "id": "view-in-github",
        "colab_type": "text"
      },
      "source": [
        "<a href=\"https://colab.research.google.com/github/siu2388/elice_AI7/blob/main/elice_12thWeek_ipynb%EC%9D%98_%EC%82%AC%EB%B3%B8.ipynb\" target=\"_parent\"><img src=\"https://colab.research.google.com/assets/colab-badge.svg\" alt=\"Open In Colab\"/></a>"
      ]
    },
    {
      "cell_type": "markdown",
      "source": [
        "# Import"
      ],
      "metadata": {
        "id": "zVdYjA9wpu1y"
      }
    },
    {
      "cell_type": "code",
      "source": [
        "pip install duckdb"
      ],
      "metadata": {
        "colab": {
          "base_uri": "https://localhost:8080/"
        },
        "id": "I0bZx-dgQlFq",
        "outputId": "c3734e8b-54ca-4a2d-8198-169f490f119c"
      },
      "execution_count": null,
      "outputs": [
        {
          "output_type": "stream",
          "name": "stdout",
          "text": [
            "Looking in indexes: https://pypi.org/simple, https://us-python.pkg.dev/colab-wheels/public/simple/\n",
            "Requirement already satisfied: duckdb in /usr/local/lib/python3.10/dist-packages (0.7.1)\n"
          ]
        }
      ]
    },
    {
      "cell_type": "code",
      "source": [
        "import numpy as np\n",
        "import pandas as pd\n",
        "\n",
        "import numpy.matlib\n",
        "import pandas.plotting\n",
        "from functools import wraps\n",
        "\n",
        "import duckdb"
      ],
      "metadata": {
        "id": "YJMOSrp_ECr4"
      },
      "execution_count": null,
      "outputs": []
    },
    {
      "cell_type": "markdown",
      "source": [
        "# 자료형 I\n"
      ],
      "metadata": {
        "id": "qNCKdOqFFoIE"
      }
    },
    {
      "cell_type": "code",
      "source": [
        "a = 2\n",
        "print(a)"
      ],
      "metadata": {
        "colab": {
          "base_uri": "https://localhost:8080/"
        },
        "id": "6AyGnYxTFwud",
        "outputId": "36889ae0-e29e-4fdd-abb6-805abe0ab7d4"
      },
      "execution_count": null,
      "outputs": [
        {
          "output_type": "stream",
          "name": "stdout",
          "text": [
            "2\n"
          ]
        }
      ]
    },
    {
      "cell_type": "code",
      "source": [
        "letter1 = '010'\n",
        "letter2 = '1234'\n",
        "letter3 = '5678'\n",
        "print(letter1,'-',letter2,'-',letter3)"
      ],
      "metadata": {
        "colab": {
          "base_uri": "https://localhost:8080/"
        },
        "id": "a1LeCvwP_8F3",
        "outputId": "28fbbe08-ef15-4189-c86f-c43e207c5705"
      },
      "execution_count": null,
      "outputs": [
        {
          "output_type": "stream",
          "name": "stdout",
          "text": [
            "010 - 1234 - 5678\n"
          ]
        }
      ]
    },
    {
      "cell_type": "code",
      "source": [
        "letter0 = \"My phone number is\"\n",
        "letter1,letter2,letter3= '010',\"1234\",'5678'\n",
        "print(letter0,letter1,'-',letter2,'-',letter3)"
      ],
      "metadata": {
        "colab": {
          "base_uri": "https://localhost:8080/"
        },
        "id": "EQzufNrk_9u2",
        "outputId": "78644fd1-6fc2-4fb9-8da3-4ec67f06824f"
      },
      "execution_count": null,
      "outputs": [
        {
          "output_type": "stream",
          "name": "stdout",
          "text": [
            "My phone number is 010 - 1234 - 5678\n"
          ]
        }
      ]
    },
    {
      "cell_type": "code",
      "source": [
        "print(letter2[0],letter2[1],letter2[2],letter2[3])\n",
        "print(letter2[-4],letter2[-3],letter2[-2],letter2[-1])"
      ],
      "metadata": {
        "id": "APUWHs3o__Qu"
      },
      "execution_count": null,
      "outputs": []
    },
    {
      "cell_type": "code",
      "source": [
        "print(letter2[0:3])\n",
        "print(letter2[1:3])\n",
        "print(letter2[1:])\n",
        "print(letter2[:4])"
      ],
      "metadata": {
        "id": "TcTWj0AfAAxF"
      },
      "execution_count": null,
      "outputs": []
    },
    {
      "cell_type": "code",
      "source": [
        "phoneNumber='010-1234-5678'\n",
        "phoneNumber.split('-')"
      ],
      "metadata": {
        "colab": {
          "base_uri": "https://localhost:8080/"
        },
        "id": "P6Jdv7B1AC8Z",
        "outputId": "3720eaae-7754-4703-860f-1932c51a4fb7"
      },
      "execution_count": null,
      "outputs": [
        {
          "output_type": "execute_result",
          "data": {
            "text/plain": [
              "['010', '1234', '5678']"
            ]
          },
          "metadata": {},
          "execution_count": 21
        }
      ]
    },
    {
      "cell_type": "code",
      "source": [
        "print(phoneNumber)\n",
        "phoneNumber.startswith('010')"
      ],
      "metadata": {
        "colab": {
          "base_uri": "https://localhost:8080/"
        },
        "id": "GmqIkdBFdU-H",
        "outputId": "a47bf65e-eef0-493f-e771-fd760c2b8352"
      },
      "execution_count": null,
      "outputs": [
        {
          "output_type": "stream",
          "name": "stdout",
          "text": [
            "010-1234-5678\n"
          ]
        },
        {
          "output_type": "execute_result",
          "data": {
            "text/plain": [
              "True"
            ]
          },
          "metadata": {},
          "execution_count": 24
        }
      ]
    },
    {
      "cell_type": "code",
      "source": [
        "phoneNumber='010-1234-5678'\n",
        "phoneNumber.replace('-','')"
      ],
      "metadata": {
        "id": "LHlyB7U-AEQR"
      },
      "execution_count": null,
      "outputs": []
    },
    {
      "cell_type": "code",
      "source": [
        "address='SEoul'\n",
        "address.upper()"
      ],
      "metadata": {
        "id": "wkkydKnWAFsx"
      },
      "execution_count": null,
      "outputs": []
    },
    {
      "cell_type": "code",
      "source": [
        "address.lower()"
      ],
      "metadata": {
        "id": "Uad6fFPyAHip"
      },
      "execution_count": null,
      "outputs": []
    },
    {
      "cell_type": "code",
      "source": [
        "splitted_number=phoneNumber.split('-')\n",
        "splitted_number"
      ],
      "metadata": {
        "id": "Yy7FxaiiAI4n"
      },
      "execution_count": null,
      "outputs": []
    },
    {
      "cell_type": "code",
      "source": [
        "# 동일한 자료형\n",
        "list1=[1,2,3,4]\n",
        "list2=['a','b','c','d']\n",
        "\n",
        "# 여러 자료형 포함\n",
        "list3=[1,'a',2,'b',3,'c']\n",
        "\n",
        "# 리스트가 요소로 구성된 리스트\n",
        "list4=[list1,list2]\n",
        "\n",
        "print(list1,list2)\n",
        "print(list3)\n",
        "print(list4)"
      ],
      "metadata": {
        "colab": {
          "base_uri": "https://localhost:8080/"
        },
        "id": "h00jp13JAJPg",
        "outputId": "9592f214-d414-490f-8bad-5a011c16333b"
      },
      "execution_count": null,
      "outputs": [
        {
          "output_type": "stream",
          "name": "stdout",
          "text": [
            "[1, 2, 3, 4] ['a', 'b', 'c', 'd']\n",
            "[1, 'a', 2, 'b', 3, 'c']\n",
            "[[1, 2, 3, 4], ['a', 'b', 'c', 'd']]\n"
          ]
        }
      ]
    },
    {
      "cell_type": "code",
      "source": [
        "print(list1[0])\n",
        "print(list2[-1])\n",
        "print(list4[0])"
      ],
      "metadata": {
        "colab": {
          "base_uri": "https://localhost:8080/"
        },
        "id": "HKfotOZ8CKTO",
        "outputId": "c840a031-9e73-404d-e48b-6b6f48b47062"
      },
      "execution_count": null,
      "outputs": [
        {
          "output_type": "stream",
          "name": "stdout",
          "text": [
            "1\n",
            "d\n",
            "[1, 2, 3, 4]\n"
          ]
        }
      ]
    },
    {
      "cell_type": "code",
      "source": [
        "print(list1)\n",
        "print(list1[0:2])\n",
        "print(list1[0:])\n",
        "print(list1[:4])"
      ],
      "metadata": {
        "colab": {
          "base_uri": "https://localhost:8080/"
        },
        "id": "Ugvk0hllAUGS",
        "outputId": "fdc4552b-c6ef-46ff-de6b-abedd252b390"
      },
      "execution_count": null,
      "outputs": [
        {
          "output_type": "stream",
          "name": "stdout",
          "text": [
            "[1, 2, 3, 4]\n",
            "[1, 2]\n",
            "[1, 2, 3, 4]\n",
            "[1, 2, 3, 4]\n"
          ]
        }
      ]
    },
    {
      "cell_type": "code",
      "source": [
        "print(list1)\n",
        "print(list4)\n",
        "\n",
        "print(\"Number of elements :\",len(list1),\",\",len(list4))"
      ],
      "metadata": {
        "colab": {
          "base_uri": "https://localhost:8080/"
        },
        "id": "fWrrntwnDBTt",
        "outputId": "d69be246-4394-4c5a-8e34-2dbd2d3f6fc9"
      },
      "execution_count": null,
      "outputs": [
        {
          "output_type": "stream",
          "name": "stdout",
          "text": [
            "[1, 2, 3, 4]\n",
            "[[1, 2, 3, 4], ['a', 'b', 'c', 'd']]\n",
            "Number of elements : 4 , 2\n"
          ]
        }
      ]
    },
    {
      "cell_type": "code",
      "source": [
        "print(list1)\n"
      ],
      "metadata": {
        "colab": {
          "base_uri": "https://localhost:8080/"
        },
        "id": "nLh0zxM0E9Tw",
        "outputId": "a18832cd-7880-4f03-d757-888bcc9e0b90"
      },
      "execution_count": null,
      "outputs": [
        {
          "output_type": "stream",
          "name": "stdout",
          "text": [
            "[1, 2, 3, 4]\n"
          ]
        }
      ]
    },
    {
      "cell_type": "code",
      "source": [
        "list1.append(5)\n",
        "print(list1)"
      ],
      "metadata": {
        "colab": {
          "base_uri": "https://localhost:8080/"
        },
        "id": "I3BjEo5hEp48",
        "outputId": "e8715915-b30f-4fb6-e9b3-41fef0d7bd11"
      },
      "execution_count": null,
      "outputs": [
        {
          "output_type": "stream",
          "name": "stdout",
          "text": [
            "[1, 2, 3, 4, 5]\n"
          ]
        }
      ]
    },
    {
      "cell_type": "code",
      "source": [
        "list1.append(6)\n",
        "print(list1)"
      ],
      "metadata": {
        "colab": {
          "base_uri": "https://localhost:8080/"
        },
        "id": "-BpM50jxEtjT",
        "outputId": "ea002bc1-443b-4683-ebcf-d8f8d8c4fe23"
      },
      "execution_count": null,
      "outputs": [
        {
          "output_type": "stream",
          "name": "stdout",
          "text": [
            "[1, 2, 3, 4, 5, 6]\n"
          ]
        }
      ]
    },
    {
      "cell_type": "code",
      "source": [
        "list1.append(7)\n",
        "print(list1)"
      ],
      "metadata": {
        "colab": {
          "base_uri": "https://localhost:8080/"
        },
        "id": "SpkGPj-6Eu2Z",
        "outputId": "5c24e25e-560d-4797-91ff-74c99eed2999"
      },
      "execution_count": null,
      "outputs": [
        {
          "output_type": "stream",
          "name": "stdout",
          "text": [
            "[1, 2, 3, 4, 5, 6, 7]\n"
          ]
        }
      ]
    },
    {
      "cell_type": "code",
      "source": [
        "list1.append(8)\n",
        "list1.append(9)"
      ],
      "metadata": {
        "id": "3E7OnznNEv-9"
      },
      "execution_count": null,
      "outputs": []
    },
    {
      "cell_type": "code",
      "source": [
        "print(list1)"
      ],
      "metadata": {
        "colab": {
          "base_uri": "https://localhost:8080/"
        },
        "id": "SE_sfjwwEywS",
        "outputId": "ab377284-4dc3-46c8-f240-34148635c2b3"
      },
      "execution_count": null,
      "outputs": [
        {
          "output_type": "stream",
          "name": "stdout",
          "text": [
            "[1, 2, 3, 4, 5, 6, 7, 8, 9]\n"
          ]
        }
      ]
    },
    {
      "cell_type": "code",
      "source": [
        "\n",
        "# 숫자 추가하기\n",
        "list1.append(5)\n",
        "print(list1)\n",
        "\n",
        "# 또 다른 리스트 추가하기\n",
        "list1.append(list2)\n",
        "print(list1)"
      ],
      "metadata": {
        "id": "EnhALppgEnXE"
      },
      "execution_count": null,
      "outputs": []
    },
    {
      "cell_type": "code",
      "source": [
        "list5=[1,-2,3,-4]\n",
        "# sorted 함수 : 리스트를 내림차순으로 정렬\n",
        "print(sorted(list5, reverse=True))\n",
        "\n",
        "# 본래 리스트는 그대로 유지됨\n",
        "print(list5)\n",
        "\n",
        "# 절대값을 기준으로 정렬\n",
        "print(sorted(list5, key=abs))"
      ],
      "metadata": {
        "colab": {
          "base_uri": "https://localhost:8080/"
        },
        "id": "85A49oyiGA4J",
        "outputId": "510bf2dc-6557-4a72-f346-c3c11dff4986"
      },
      "execution_count": null,
      "outputs": [
        {
          "output_type": "stream",
          "name": "stdout",
          "text": [
            "[3, 1, -2, -4]\n",
            "[1, -2, 3, -4]\n",
            "[1, -2, 3, -4]\n"
          ]
        }
      ]
    },
    {
      "cell_type": "code",
      "source": [
        "tuple1=(1,2,3,4)\n",
        "tuple2=('a','b','c','d')\n",
        "tuple3=(1,'a',2,'b',3,'c')\n",
        "tuple4=(tuple1,tuple2)\n",
        "print(tuple1,tuple2)\n",
        "print(tuple3)\n",
        "print(tuple4)"
      ],
      "metadata": {
        "colab": {
          "base_uri": "https://localhost:8080/"
        },
        "id": "cWRj3kZdHA3Y",
        "outputId": "4d32489f-0483-4d1e-b4b9-2fbbca3f0004"
      },
      "execution_count": null,
      "outputs": [
        {
          "output_type": "stream",
          "name": "stdout",
          "text": [
            "(1, 2, 3, 4) ('a', 'b', 'c', 'd')\n",
            "(1, 'a', 2, 'b', 3, 'c')\n",
            "((1, 2, 3, 4), ('a', 'b', 'c', 'd'))\n"
          ]
        }
      ]
    },
    {
      "cell_type": "code",
      "source": [
        "# Indexing, Slicing\n",
        "print(tuple1[0],tuple1[-1])\n",
        "print(tuple2[1:])\n",
        "print(tuple3[:4])"
      ],
      "metadata": {
        "colab": {
          "base_uri": "https://localhost:8080/"
        },
        "id": "lXxxDukIJroV",
        "outputId": "b94d3ec3-f9b3-42f6-cb45-ca4ed70a549c"
      },
      "execution_count": null,
      "outputs": [
        {
          "output_type": "stream",
          "name": "stdout",
          "text": [
            "1 4\n",
            "('b', 'c', 'd')\n",
            "(1, 'a', 2, 'b')\n"
          ]
        }
      ]
    },
    {
      "cell_type": "code",
      "source": [
        "# 연결\n",
        "print(tuple1+tuple2)\n",
        "print(tuple3*2)"
      ],
      "metadata": {
        "colab": {
          "base_uri": "https://localhost:8080/"
        },
        "id": "LJaxWRqmNBM4",
        "outputId": "8a1f6cd6-adf2-4716-edcc-9e2b4655b91d"
      },
      "execution_count": null,
      "outputs": [
        {
          "output_type": "stream",
          "name": "stdout",
          "text": [
            "(1, 2, 3, 4, 'a', 'b', 'c', 'd')\n",
            "(1, 'a', 2, 'b', 3, 'c', 1, 'a', 2, 'b', 3, 'c')\n"
          ]
        }
      ]
    },
    {
      "cell_type": "code",
      "source": [
        "for i in range(0,10,3):\n",
        "  print(i)"
      ],
      "metadata": {
        "colab": {
          "base_uri": "https://localhost:8080/"
        },
        "id": "nbR3Vz1ZRANd",
        "outputId": "95a977eb-ddc5-49bb-984f-42df9a076e0f"
      },
      "execution_count": null,
      "outputs": [
        {
          "output_type": "stream",
          "name": "stdout",
          "text": [
            "0\n",
            "3\n",
            "6\n",
            "9\n"
          ]
        }
      ]
    },
    {
      "cell_type": "code",
      "source": [
        "print(list2)\n",
        "# list1에 있는 요소 4개를 하나씩 불러오기\n",
        "for i in list1:\n",
        "  print(list2[i-1])"
      ],
      "metadata": {
        "colab": {
          "base_uri": "https://localhost:8080/"
        },
        "id": "LZEu7OT_QhzX",
        "outputId": "63adfc28-e395-427b-9084-e68b65ce651b"
      },
      "execution_count": null,
      "outputs": [
        {
          "output_type": "stream",
          "name": "stdout",
          "text": [
            "['a', 'b', 'c', 'd']\n",
            "a\n",
            "b\n",
            "c\n",
            "d\n"
          ]
        }
      ]
    },
    {
      "cell_type": "code",
      "source": [
        "# for ~ range & append"
      ],
      "metadata": {
        "id": "pKkGCkvE1J0i"
      },
      "execution_count": null,
      "outputs": []
    },
    {
      "cell_type": "code",
      "source": [
        "list7=[]"
      ],
      "metadata": {
        "id": "Wr7VGojd0sFW"
      },
      "execution_count": null,
      "outputs": []
    },
    {
      "cell_type": "code",
      "source": [
        "for i in range(1,10,1):\n",
        "  list7.append(i)"
      ],
      "metadata": {
        "id": "Rzvmibmw0xJX"
      },
      "execution_count": null,
      "outputs": []
    },
    {
      "cell_type": "code",
      "source": [
        "list7"
      ],
      "metadata": {
        "colab": {
          "base_uri": "https://localhost:8080/"
        },
        "id": "YGTXchVk0qSi",
        "outputId": "799fac36-d59c-4cdc-b026-207e1eda41c7"
      },
      "execution_count": null,
      "outputs": [
        {
          "output_type": "execute_result",
          "data": {
            "text/plain": [
              "[1, 2, 3, 4, 5, 6, 7, 8, 9]"
            ]
          },
          "metadata": {},
          "execution_count": 27
        }
      ]
    },
    {
      "cell_type": "code",
      "source": [
        "# 동일한 자료형\n",
        "list1=[1,2,3,4]\n",
        "list2=['a','b','c','d']\n",
        "\n",
        "# 여러 자료형 포함\n",
        "list3=[1,'a',2,'b',3,'c']"
      ],
      "metadata": {
        "id": "PsW8PIYq7KP0"
      },
      "execution_count": null,
      "outputs": []
    },
    {
      "cell_type": "code",
      "source": [
        "list8=[]"
      ],
      "metadata": {
        "id": "7L8S6KBp7R_m"
      },
      "execution_count": null,
      "outputs": []
    },
    {
      "cell_type": "code",
      "source": [
        "list8"
      ],
      "metadata": {
        "colab": {
          "base_uri": "https://localhost:8080/"
        },
        "id": "jSSqenxTF_u1",
        "outputId": "63118008-06fa-420b-ceed-dd800187f42b"
      },
      "execution_count": null,
      "outputs": [
        {
          "output_type": "execute_result",
          "data": {
            "text/plain": [
              "[]"
            ]
          },
          "metadata": {},
          "execution_count": 55
        }
      ]
    },
    {
      "cell_type": "code",
      "source": [
        "for i in (list1,list2,list3):\n",
        "  list8.append(i)"
      ],
      "metadata": {
        "id": "OMq8ZuZZ7Ts-"
      },
      "execution_count": null,
      "outputs": []
    },
    {
      "cell_type": "code",
      "source": [
        "list8"
      ],
      "metadata": {
        "colab": {
          "base_uri": "https://localhost:8080/"
        },
        "id": "QHXnwztm7bNe",
        "outputId": "aedff120-5ec0-4aa6-f259-7529e2c4cf99"
      },
      "execution_count": null,
      "outputs": [
        {
          "output_type": "execute_result",
          "data": {
            "text/plain": [
              "[[1, 2, 3, 4], ['a', 'b', 'c', 'd'], [1, 'a', 2, 'b', 3, 'c']]"
            ]
          },
          "metadata": {},
          "execution_count": 62
        }
      ]
    },
    {
      "cell_type": "code",
      "source": [
        "for i in (list1,list2,list3):\n",
        "  list8.append(i)"
      ],
      "metadata": {
        "id": "Np0H2uz8M6xd"
      },
      "execution_count": null,
      "outputs": []
    },
    {
      "cell_type": "code",
      "source": [
        "list8"
      ],
      "metadata": {
        "colab": {
          "base_uri": "https://localhost:8080/"
        },
        "id": "jNNQkQBYNI22",
        "outputId": "9bf6aad9-0ea4-49e9-d1d0-ec679a8f515f"
      },
      "execution_count": null,
      "outputs": [
        {
          "output_type": "execute_result",
          "data": {
            "text/plain": [
              "[[1, 2, 3, 4],\n",
              " ['a', 'b', 'c', 'd'],\n",
              " [1, 'a', 2, 'b', 3, 'c'],\n",
              " [1, 2, 3, 4],\n",
              " ['a', 'b', 'c', 'd'],\n",
              " [1, 'a', 2, 'b', 3, 'c'],\n",
              " [1, 2, 3, 4],\n",
              " ['a', 'b', 'c', 'd'],\n",
              " [1, 'a', 2, 'b', 3, 'c'],\n",
              " [1, 2, 3, 4],\n",
              " ['a', 'b', 'c', 'd'],\n",
              " [1, 'a', 2, 'b', 3, 'c']]"
            ]
          },
          "metadata": {},
          "execution_count": 68
        }
      ]
    },
    {
      "cell_type": "markdown",
      "source": [
        "# Import CSV file & matplotlib"
      ],
      "metadata": {
        "id": "95PuwxPAFvjW"
      }
    },
    {
      "cell_type": "code",
      "source": [
        "import pandas as pd"
      ],
      "metadata": {
        "id": "JCqT4a5KSgwg"
      },
      "execution_count": null,
      "outputs": []
    },
    {
      "cell_type": "code",
      "source": [
        "from google.colab import drive\n",
        "drive.mount('/content/drive')"
      ],
      "metadata": {
        "colab": {
          "base_uri": "https://localhost:8080/"
        },
        "id": "GCupT16HSr3_",
        "outputId": "99f8518a-e2f8-4b93-c0b9-ec81be618c82"
      },
      "execution_count": null,
      "outputs": [
        {
          "output_type": "stream",
          "name": "stdout",
          "text": [
            "Mounted at /content/drive\n"
          ]
        }
      ]
    },
    {
      "cell_type": "code",
      "source": [
        "#url=\"https://drive.google.com/file/d/1geucYCpeAyLyMnkcRMeBEq4q_NHAYNnI/view?usp=share_link\" #구글드라이브 csv파일 주소\n",
        "#path='https://drive.google.com/uc?id='+url.split('/')[-2]\n",
        "\n",
        "\n",
        "#print(\"▶ 공유파일 링크변환 경로명 : \", path)\n",
        "#infor2020=pd.read_csv(path)\n",
        "\n",
        "infor2020 = pd.read_csv('/content/drive/MyDrive/elice_Python1213/infor2020.CSV')\n",
        "infor2020.head()"
      ],
      "metadata": {
        "colab": {
          "base_uri": "https://localhost:8080/",
          "height": 270
        },
        "id": "6Pd5nsKkFu69",
        "outputId": "df761703-3bfd-4c65-ea17-97d82ec375d1"
      },
      "execution_count": null,
      "outputs": [
        {
          "output_type": "execute_result",
          "data": {
            "text/plain": [
              "   STND_Y  IDV_ID   KEY_SEQ  gender  AGE_GROUP  SIDO  RECU_FR_DT  FORM_CD  \\\n",
              "0    2020      29   3724043       1         17    41  2020.12.21        3   \n",
              "1    2020      29   3495225       1         17    41  2020.12.14        3   \n",
              "2    2020     255  10615350       2         18    41   2020.4.20        3   \n",
              "3    2020     255  10616553       2         18    41   2020.4.16        3   \n",
              "4    2020    2406   3105303       2         17    41  2020.12.30        3   \n",
              "\n",
              "   DSBJT_CD MAIN_SICK SUB_SICK  VSCN  RECN  EDEC_ADD_RT  EDEC_TRAMT  \\\n",
              "0         1      I109     E785     1     1         0.15       11540   \n",
              "1         1      I109     E785     1     1         0.15       11540   \n",
              "2         1      I109     I251     1     1         0.15       11540   \n",
              "3         1      I109     I251     1     1         0.15       11540   \n",
              "4         1      I109     E780     1     1         0.15       11540   \n",
              "\n",
              "   EDEC_SBRDN_AMT  EDEC_JBRDN_AMT  TOT_PRES_DD_CNT DATA_STD_DT  \n",
              "0            1500           10040                0  2021.12.28  \n",
              "1            1500           10040                7  2021.12.28  \n",
              "2            1500           10040               30  2021.12.28  \n",
              "3            1500           10040               30  2021.12.28  \n",
              "4            1500           10040                0  2021.12.28  "
            ],
            "text/html": [
              "\n",
              "  <div id=\"df-c3c5a594-45bb-4c49-a8d8-f279799ca3d4\">\n",
              "    <div class=\"colab-df-container\">\n",
              "      <div>\n",
              "<style scoped>\n",
              "    .dataframe tbody tr th:only-of-type {\n",
              "        vertical-align: middle;\n",
              "    }\n",
              "\n",
              "    .dataframe tbody tr th {\n",
              "        vertical-align: top;\n",
              "    }\n",
              "\n",
              "    .dataframe thead th {\n",
              "        text-align: right;\n",
              "    }\n",
              "</style>\n",
              "<table border=\"1\" class=\"dataframe\">\n",
              "  <thead>\n",
              "    <tr style=\"text-align: right;\">\n",
              "      <th></th>\n",
              "      <th>STND_Y</th>\n",
              "      <th>IDV_ID</th>\n",
              "      <th>KEY_SEQ</th>\n",
              "      <th>gender</th>\n",
              "      <th>AGE_GROUP</th>\n",
              "      <th>SIDO</th>\n",
              "      <th>RECU_FR_DT</th>\n",
              "      <th>FORM_CD</th>\n",
              "      <th>DSBJT_CD</th>\n",
              "      <th>MAIN_SICK</th>\n",
              "      <th>SUB_SICK</th>\n",
              "      <th>VSCN</th>\n",
              "      <th>RECN</th>\n",
              "      <th>EDEC_ADD_RT</th>\n",
              "      <th>EDEC_TRAMT</th>\n",
              "      <th>EDEC_SBRDN_AMT</th>\n",
              "      <th>EDEC_JBRDN_AMT</th>\n",
              "      <th>TOT_PRES_DD_CNT</th>\n",
              "      <th>DATA_STD_DT</th>\n",
              "    </tr>\n",
              "  </thead>\n",
              "  <tbody>\n",
              "    <tr>\n",
              "      <th>0</th>\n",
              "      <td>2020</td>\n",
              "      <td>29</td>\n",
              "      <td>3724043</td>\n",
              "      <td>1</td>\n",
              "      <td>17</td>\n",
              "      <td>41</td>\n",
              "      <td>2020.12.21</td>\n",
              "      <td>3</td>\n",
              "      <td>1</td>\n",
              "      <td>I109</td>\n",
              "      <td>E785</td>\n",
              "      <td>1</td>\n",
              "      <td>1</td>\n",
              "      <td>0.15</td>\n",
              "      <td>11540</td>\n",
              "      <td>1500</td>\n",
              "      <td>10040</td>\n",
              "      <td>0</td>\n",
              "      <td>2021.12.28</td>\n",
              "    </tr>\n",
              "    <tr>\n",
              "      <th>1</th>\n",
              "      <td>2020</td>\n",
              "      <td>29</td>\n",
              "      <td>3495225</td>\n",
              "      <td>1</td>\n",
              "      <td>17</td>\n",
              "      <td>41</td>\n",
              "      <td>2020.12.14</td>\n",
              "      <td>3</td>\n",
              "      <td>1</td>\n",
              "      <td>I109</td>\n",
              "      <td>E785</td>\n",
              "      <td>1</td>\n",
              "      <td>1</td>\n",
              "      <td>0.15</td>\n",
              "      <td>11540</td>\n",
              "      <td>1500</td>\n",
              "      <td>10040</td>\n",
              "      <td>7</td>\n",
              "      <td>2021.12.28</td>\n",
              "    </tr>\n",
              "    <tr>\n",
              "      <th>2</th>\n",
              "      <td>2020</td>\n",
              "      <td>255</td>\n",
              "      <td>10615350</td>\n",
              "      <td>2</td>\n",
              "      <td>18</td>\n",
              "      <td>41</td>\n",
              "      <td>2020.4.20</td>\n",
              "      <td>3</td>\n",
              "      <td>1</td>\n",
              "      <td>I109</td>\n",
              "      <td>I251</td>\n",
              "      <td>1</td>\n",
              "      <td>1</td>\n",
              "      <td>0.15</td>\n",
              "      <td>11540</td>\n",
              "      <td>1500</td>\n",
              "      <td>10040</td>\n",
              "      <td>30</td>\n",
              "      <td>2021.12.28</td>\n",
              "    </tr>\n",
              "    <tr>\n",
              "      <th>3</th>\n",
              "      <td>2020</td>\n",
              "      <td>255</td>\n",
              "      <td>10616553</td>\n",
              "      <td>2</td>\n",
              "      <td>18</td>\n",
              "      <td>41</td>\n",
              "      <td>2020.4.16</td>\n",
              "      <td>3</td>\n",
              "      <td>1</td>\n",
              "      <td>I109</td>\n",
              "      <td>I251</td>\n",
              "      <td>1</td>\n",
              "      <td>1</td>\n",
              "      <td>0.15</td>\n",
              "      <td>11540</td>\n",
              "      <td>1500</td>\n",
              "      <td>10040</td>\n",
              "      <td>30</td>\n",
              "      <td>2021.12.28</td>\n",
              "    </tr>\n",
              "    <tr>\n",
              "      <th>4</th>\n",
              "      <td>2020</td>\n",
              "      <td>2406</td>\n",
              "      <td>3105303</td>\n",
              "      <td>2</td>\n",
              "      <td>17</td>\n",
              "      <td>41</td>\n",
              "      <td>2020.12.30</td>\n",
              "      <td>3</td>\n",
              "      <td>1</td>\n",
              "      <td>I109</td>\n",
              "      <td>E780</td>\n",
              "      <td>1</td>\n",
              "      <td>1</td>\n",
              "      <td>0.15</td>\n",
              "      <td>11540</td>\n",
              "      <td>1500</td>\n",
              "      <td>10040</td>\n",
              "      <td>0</td>\n",
              "      <td>2021.12.28</td>\n",
              "    </tr>\n",
              "  </tbody>\n",
              "</table>\n",
              "</div>\n",
              "      <button class=\"colab-df-convert\" onclick=\"convertToInteractive('df-c3c5a594-45bb-4c49-a8d8-f279799ca3d4')\"\n",
              "              title=\"Convert this dataframe to an interactive table.\"\n",
              "              style=\"display:none;\">\n",
              "        \n",
              "  <svg xmlns=\"http://www.w3.org/2000/svg\" height=\"24px\"viewBox=\"0 0 24 24\"\n",
              "       width=\"24px\">\n",
              "    <path d=\"M0 0h24v24H0V0z\" fill=\"none\"/>\n",
              "    <path d=\"M18.56 5.44l.94 2.06.94-2.06 2.06-.94-2.06-.94-.94-2.06-.94 2.06-2.06.94zm-11 1L8.5 8.5l.94-2.06 2.06-.94-2.06-.94L8.5 2.5l-.94 2.06-2.06.94zm10 10l.94 2.06.94-2.06 2.06-.94-2.06-.94-.94-2.06-.94 2.06-2.06.94z\"/><path d=\"M17.41 7.96l-1.37-1.37c-.4-.4-.92-.59-1.43-.59-.52 0-1.04.2-1.43.59L10.3 9.45l-7.72 7.72c-.78.78-.78 2.05 0 2.83L4 21.41c.39.39.9.59 1.41.59.51 0 1.02-.2 1.41-.59l7.78-7.78 2.81-2.81c.8-.78.8-2.07 0-2.86zM5.41 20L4 18.59l7.72-7.72 1.47 1.35L5.41 20z\"/>\n",
              "  </svg>\n",
              "      </button>\n",
              "      \n",
              "  <style>\n",
              "    .colab-df-container {\n",
              "      display:flex;\n",
              "      flex-wrap:wrap;\n",
              "      gap: 12px;\n",
              "    }\n",
              "\n",
              "    .colab-df-convert {\n",
              "      background-color: #E8F0FE;\n",
              "      border: none;\n",
              "      border-radius: 50%;\n",
              "      cursor: pointer;\n",
              "      display: none;\n",
              "      fill: #1967D2;\n",
              "      height: 32px;\n",
              "      padding: 0 0 0 0;\n",
              "      width: 32px;\n",
              "    }\n",
              "\n",
              "    .colab-df-convert:hover {\n",
              "      background-color: #E2EBFA;\n",
              "      box-shadow: 0px 1px 2px rgba(60, 64, 67, 0.3), 0px 1px 3px 1px rgba(60, 64, 67, 0.15);\n",
              "      fill: #174EA6;\n",
              "    }\n",
              "\n",
              "    [theme=dark] .colab-df-convert {\n",
              "      background-color: #3B4455;\n",
              "      fill: #D2E3FC;\n",
              "    }\n",
              "\n",
              "    [theme=dark] .colab-df-convert:hover {\n",
              "      background-color: #434B5C;\n",
              "      box-shadow: 0px 1px 3px 1px rgba(0, 0, 0, 0.15);\n",
              "      filter: drop-shadow(0px 1px 2px rgba(0, 0, 0, 0.3));\n",
              "      fill: #FFFFFF;\n",
              "    }\n",
              "  </style>\n",
              "\n",
              "      <script>\n",
              "        const buttonEl =\n",
              "          document.querySelector('#df-c3c5a594-45bb-4c49-a8d8-f279799ca3d4 button.colab-df-convert');\n",
              "        buttonEl.style.display =\n",
              "          google.colab.kernel.accessAllowed ? 'block' : 'none';\n",
              "\n",
              "        async function convertToInteractive(key) {\n",
              "          const element = document.querySelector('#df-c3c5a594-45bb-4c49-a8d8-f279799ca3d4');\n",
              "          const dataTable =\n",
              "            await google.colab.kernel.invokeFunction('convertToInteractive',\n",
              "                                                     [key], {});\n",
              "          if (!dataTable) return;\n",
              "\n",
              "          const docLinkHtml = 'Like what you see? Visit the ' +\n",
              "            '<a target=\"_blank\" href=https://colab.research.google.com/notebooks/data_table.ipynb>data table notebook</a>'\n",
              "            + ' to learn more about interactive tables.';\n",
              "          element.innerHTML = '';\n",
              "          dataTable['output_type'] = 'display_data';\n",
              "          await google.colab.output.renderOutput(dataTable, element);\n",
              "          const docLink = document.createElement('div');\n",
              "          docLink.innerHTML = docLinkHtml;\n",
              "          element.appendChild(docLink);\n",
              "        }\n",
              "      </script>\n",
              "    </div>\n",
              "  </div>\n",
              "  "
            ]
          },
          "metadata": {},
          "execution_count": 5
        }
      ]
    },
    {
      "cell_type": "code",
      "source": [
        "infor2020"
      ],
      "metadata": {
        "colab": {
          "base_uri": "https://localhost:8080/",
          "height": 488
        },
        "id": "5qvhSLgfTfxd",
        "outputId": "0b751306-cd71-4a5f-b654-f83e1945929c"
      },
      "execution_count": null,
      "outputs": [
        {
          "output_type": "execute_result",
          "data": {
            "text/plain": [
              "        STND_Y  IDV_ID   KEY_SEQ  gender  AGE_GROUP  SIDO  RECU_FR_DT  \\\n",
              "0         2020      29   3724043       1         17    41  2020.12.21   \n",
              "1         2020      29   3495225       1         17    41  2020.12.14   \n",
              "2         2020     255  10615350       2         18    41   2020.4.20   \n",
              "3         2020     255  10616553       2         18    41   2020.4.16   \n",
              "4         2020    2406   3105303       2         17    41  2020.12.30   \n",
              "...        ...     ...       ...     ...        ...   ...         ...   \n",
              "699995    2020  198964   7639250       1          7    47   2020.8.27   \n",
              "699996    2020  199345   8612985       2          2    26   2020.7.14   \n",
              "699997    2020  199345   1217992       2          2    26   2020.3.13   \n",
              "699998    2020  199400   9065527       1          5    11    2020.6.5   \n",
              "699999    2020  199418   3451117       2          2    43   2020.12.9   \n",
              "\n",
              "        FORM_CD  DSBJT_CD MAIN_SICK SUB_SICK  VSCN  RECN  EDEC_ADD_RT  \\\n",
              "0             3         1      I109     E785     1     1         0.15   \n",
              "1             3         1      I109     E785     1     1         0.15   \n",
              "2             3         1      I109     I251     1     1         0.15   \n",
              "3             3         1      I109     I251     1     1         0.15   \n",
              "4             3         1      I109     E780     1     1         0.15   \n",
              "...         ...       ...       ...      ...   ...   ...          ...   \n",
              "699995        3        13       J00     K296     1     1         0.15   \n",
              "699996        3        11      A099     K296     1     1         0.15   \n",
              "699997        3        11      A099     K296     1     1         0.15   \n",
              "699998        3         1      A049     K296     1     1         0.15   \n",
              "699999        3        11      J202     K296     1     1         0.15   \n",
              "\n",
              "        EDEC_TRAMT  EDEC_SBRDN_AMT  EDEC_JBRDN_AMT  TOT_PRES_DD_CNT  \\\n",
              "0            11540            1500           10040                0   \n",
              "1            11540            1500           10040                7   \n",
              "2            11540            1500           10040               30   \n",
              "3            11540            1500           10040               30   \n",
              "4            11540            1500           10040                0   \n",
              "...            ...             ...             ...              ...   \n",
              "699995       16140            4800           11340                3   \n",
              "699996       16140            4800           11340                3   \n",
              "699997       16140            4800           11340                3   \n",
              "699998       16140            4800           11340                3   \n",
              "699999       16140            4800           11340                2   \n",
              "\n",
              "       DATA_STD_DT  \n",
              "0       2021.12.28  \n",
              "1       2021.12.28  \n",
              "2       2021.12.28  \n",
              "3       2021.12.28  \n",
              "4       2021.12.28  \n",
              "...            ...  \n",
              "699995  2021.12.28  \n",
              "699996  2021.12.28  \n",
              "699997  2021.12.28  \n",
              "699998  2021.12.28  \n",
              "699999  2021.12.28  \n",
              "\n",
              "[700000 rows x 19 columns]"
            ],
            "text/html": [
              "\n",
              "  <div id=\"df-98538199-b4bc-4ac8-ad65-2a0454a92fa6\">\n",
              "    <div class=\"colab-df-container\">\n",
              "      <div>\n",
              "<style scoped>\n",
              "    .dataframe tbody tr th:only-of-type {\n",
              "        vertical-align: middle;\n",
              "    }\n",
              "\n",
              "    .dataframe tbody tr th {\n",
              "        vertical-align: top;\n",
              "    }\n",
              "\n",
              "    .dataframe thead th {\n",
              "        text-align: right;\n",
              "    }\n",
              "</style>\n",
              "<table border=\"1\" class=\"dataframe\">\n",
              "  <thead>\n",
              "    <tr style=\"text-align: right;\">\n",
              "      <th></th>\n",
              "      <th>STND_Y</th>\n",
              "      <th>IDV_ID</th>\n",
              "      <th>KEY_SEQ</th>\n",
              "      <th>gender</th>\n",
              "      <th>AGE_GROUP</th>\n",
              "      <th>SIDO</th>\n",
              "      <th>RECU_FR_DT</th>\n",
              "      <th>FORM_CD</th>\n",
              "      <th>DSBJT_CD</th>\n",
              "      <th>MAIN_SICK</th>\n",
              "      <th>SUB_SICK</th>\n",
              "      <th>VSCN</th>\n",
              "      <th>RECN</th>\n",
              "      <th>EDEC_ADD_RT</th>\n",
              "      <th>EDEC_TRAMT</th>\n",
              "      <th>EDEC_SBRDN_AMT</th>\n",
              "      <th>EDEC_JBRDN_AMT</th>\n",
              "      <th>TOT_PRES_DD_CNT</th>\n",
              "      <th>DATA_STD_DT</th>\n",
              "    </tr>\n",
              "  </thead>\n",
              "  <tbody>\n",
              "    <tr>\n",
              "      <th>0</th>\n",
              "      <td>2020</td>\n",
              "      <td>29</td>\n",
              "      <td>3724043</td>\n",
              "      <td>1</td>\n",
              "      <td>17</td>\n",
              "      <td>41</td>\n",
              "      <td>2020.12.21</td>\n",
              "      <td>3</td>\n",
              "      <td>1</td>\n",
              "      <td>I109</td>\n",
              "      <td>E785</td>\n",
              "      <td>1</td>\n",
              "      <td>1</td>\n",
              "      <td>0.15</td>\n",
              "      <td>11540</td>\n",
              "      <td>1500</td>\n",
              "      <td>10040</td>\n",
              "      <td>0</td>\n",
              "      <td>2021.12.28</td>\n",
              "    </tr>\n",
              "    <tr>\n",
              "      <th>1</th>\n",
              "      <td>2020</td>\n",
              "      <td>29</td>\n",
              "      <td>3495225</td>\n",
              "      <td>1</td>\n",
              "      <td>17</td>\n",
              "      <td>41</td>\n",
              "      <td>2020.12.14</td>\n",
              "      <td>3</td>\n",
              "      <td>1</td>\n",
              "      <td>I109</td>\n",
              "      <td>E785</td>\n",
              "      <td>1</td>\n",
              "      <td>1</td>\n",
              "      <td>0.15</td>\n",
              "      <td>11540</td>\n",
              "      <td>1500</td>\n",
              "      <td>10040</td>\n",
              "      <td>7</td>\n",
              "      <td>2021.12.28</td>\n",
              "    </tr>\n",
              "    <tr>\n",
              "      <th>2</th>\n",
              "      <td>2020</td>\n",
              "      <td>255</td>\n",
              "      <td>10615350</td>\n",
              "      <td>2</td>\n",
              "      <td>18</td>\n",
              "      <td>41</td>\n",
              "      <td>2020.4.20</td>\n",
              "      <td>3</td>\n",
              "      <td>1</td>\n",
              "      <td>I109</td>\n",
              "      <td>I251</td>\n",
              "      <td>1</td>\n",
              "      <td>1</td>\n",
              "      <td>0.15</td>\n",
              "      <td>11540</td>\n",
              "      <td>1500</td>\n",
              "      <td>10040</td>\n",
              "      <td>30</td>\n",
              "      <td>2021.12.28</td>\n",
              "    </tr>\n",
              "    <tr>\n",
              "      <th>3</th>\n",
              "      <td>2020</td>\n",
              "      <td>255</td>\n",
              "      <td>10616553</td>\n",
              "      <td>2</td>\n",
              "      <td>18</td>\n",
              "      <td>41</td>\n",
              "      <td>2020.4.16</td>\n",
              "      <td>3</td>\n",
              "      <td>1</td>\n",
              "      <td>I109</td>\n",
              "      <td>I251</td>\n",
              "      <td>1</td>\n",
              "      <td>1</td>\n",
              "      <td>0.15</td>\n",
              "      <td>11540</td>\n",
              "      <td>1500</td>\n",
              "      <td>10040</td>\n",
              "      <td>30</td>\n",
              "      <td>2021.12.28</td>\n",
              "    </tr>\n",
              "    <tr>\n",
              "      <th>4</th>\n",
              "      <td>2020</td>\n",
              "      <td>2406</td>\n",
              "      <td>3105303</td>\n",
              "      <td>2</td>\n",
              "      <td>17</td>\n",
              "      <td>41</td>\n",
              "      <td>2020.12.30</td>\n",
              "      <td>3</td>\n",
              "      <td>1</td>\n",
              "      <td>I109</td>\n",
              "      <td>E780</td>\n",
              "      <td>1</td>\n",
              "      <td>1</td>\n",
              "      <td>0.15</td>\n",
              "      <td>11540</td>\n",
              "      <td>1500</td>\n",
              "      <td>10040</td>\n",
              "      <td>0</td>\n",
              "      <td>2021.12.28</td>\n",
              "    </tr>\n",
              "    <tr>\n",
              "      <th>...</th>\n",
              "      <td>...</td>\n",
              "      <td>...</td>\n",
              "      <td>...</td>\n",
              "      <td>...</td>\n",
              "      <td>...</td>\n",
              "      <td>...</td>\n",
              "      <td>...</td>\n",
              "      <td>...</td>\n",
              "      <td>...</td>\n",
              "      <td>...</td>\n",
              "      <td>...</td>\n",
              "      <td>...</td>\n",
              "      <td>...</td>\n",
              "      <td>...</td>\n",
              "      <td>...</td>\n",
              "      <td>...</td>\n",
              "      <td>...</td>\n",
              "      <td>...</td>\n",
              "      <td>...</td>\n",
              "    </tr>\n",
              "    <tr>\n",
              "      <th>699995</th>\n",
              "      <td>2020</td>\n",
              "      <td>198964</td>\n",
              "      <td>7639250</td>\n",
              "      <td>1</td>\n",
              "      <td>7</td>\n",
              "      <td>47</td>\n",
              "      <td>2020.8.27</td>\n",
              "      <td>3</td>\n",
              "      <td>13</td>\n",
              "      <td>J00</td>\n",
              "      <td>K296</td>\n",
              "      <td>1</td>\n",
              "      <td>1</td>\n",
              "      <td>0.15</td>\n",
              "      <td>16140</td>\n",
              "      <td>4800</td>\n",
              "      <td>11340</td>\n",
              "      <td>3</td>\n",
              "      <td>2021.12.28</td>\n",
              "    </tr>\n",
              "    <tr>\n",
              "      <th>699996</th>\n",
              "      <td>2020</td>\n",
              "      <td>199345</td>\n",
              "      <td>8612985</td>\n",
              "      <td>2</td>\n",
              "      <td>2</td>\n",
              "      <td>26</td>\n",
              "      <td>2020.7.14</td>\n",
              "      <td>3</td>\n",
              "      <td>11</td>\n",
              "      <td>A099</td>\n",
              "      <td>K296</td>\n",
              "      <td>1</td>\n",
              "      <td>1</td>\n",
              "      <td>0.15</td>\n",
              "      <td>16140</td>\n",
              "      <td>4800</td>\n",
              "      <td>11340</td>\n",
              "      <td>3</td>\n",
              "      <td>2021.12.28</td>\n",
              "    </tr>\n",
              "    <tr>\n",
              "      <th>699997</th>\n",
              "      <td>2020</td>\n",
              "      <td>199345</td>\n",
              "      <td>1217992</td>\n",
              "      <td>2</td>\n",
              "      <td>2</td>\n",
              "      <td>26</td>\n",
              "      <td>2020.3.13</td>\n",
              "      <td>3</td>\n",
              "      <td>11</td>\n",
              "      <td>A099</td>\n",
              "      <td>K296</td>\n",
              "      <td>1</td>\n",
              "      <td>1</td>\n",
              "      <td>0.15</td>\n",
              "      <td>16140</td>\n",
              "      <td>4800</td>\n",
              "      <td>11340</td>\n",
              "      <td>3</td>\n",
              "      <td>2021.12.28</td>\n",
              "    </tr>\n",
              "    <tr>\n",
              "      <th>699998</th>\n",
              "      <td>2020</td>\n",
              "      <td>199400</td>\n",
              "      <td>9065527</td>\n",
              "      <td>1</td>\n",
              "      <td>5</td>\n",
              "      <td>11</td>\n",
              "      <td>2020.6.5</td>\n",
              "      <td>3</td>\n",
              "      <td>1</td>\n",
              "      <td>A049</td>\n",
              "      <td>K296</td>\n",
              "      <td>1</td>\n",
              "      <td>1</td>\n",
              "      <td>0.15</td>\n",
              "      <td>16140</td>\n",
              "      <td>4800</td>\n",
              "      <td>11340</td>\n",
              "      <td>3</td>\n",
              "      <td>2021.12.28</td>\n",
              "    </tr>\n",
              "    <tr>\n",
              "      <th>699999</th>\n",
              "      <td>2020</td>\n",
              "      <td>199418</td>\n",
              "      <td>3451117</td>\n",
              "      <td>2</td>\n",
              "      <td>2</td>\n",
              "      <td>43</td>\n",
              "      <td>2020.12.9</td>\n",
              "      <td>3</td>\n",
              "      <td>11</td>\n",
              "      <td>J202</td>\n",
              "      <td>K296</td>\n",
              "      <td>1</td>\n",
              "      <td>1</td>\n",
              "      <td>0.15</td>\n",
              "      <td>16140</td>\n",
              "      <td>4800</td>\n",
              "      <td>11340</td>\n",
              "      <td>2</td>\n",
              "      <td>2021.12.28</td>\n",
              "    </tr>\n",
              "  </tbody>\n",
              "</table>\n",
              "<p>700000 rows × 19 columns</p>\n",
              "</div>\n",
              "      <button class=\"colab-df-convert\" onclick=\"convertToInteractive('df-98538199-b4bc-4ac8-ad65-2a0454a92fa6')\"\n",
              "              title=\"Convert this dataframe to an interactive table.\"\n",
              "              style=\"display:none;\">\n",
              "        \n",
              "  <svg xmlns=\"http://www.w3.org/2000/svg\" height=\"24px\"viewBox=\"0 0 24 24\"\n",
              "       width=\"24px\">\n",
              "    <path d=\"M0 0h24v24H0V0z\" fill=\"none\"/>\n",
              "    <path d=\"M18.56 5.44l.94 2.06.94-2.06 2.06-.94-2.06-.94-.94-2.06-.94 2.06-2.06.94zm-11 1L8.5 8.5l.94-2.06 2.06-.94-2.06-.94L8.5 2.5l-.94 2.06-2.06.94zm10 10l.94 2.06.94-2.06 2.06-.94-2.06-.94-.94-2.06-.94 2.06-2.06.94z\"/><path d=\"M17.41 7.96l-1.37-1.37c-.4-.4-.92-.59-1.43-.59-.52 0-1.04.2-1.43.59L10.3 9.45l-7.72 7.72c-.78.78-.78 2.05 0 2.83L4 21.41c.39.39.9.59 1.41.59.51 0 1.02-.2 1.41-.59l7.78-7.78 2.81-2.81c.8-.78.8-2.07 0-2.86zM5.41 20L4 18.59l7.72-7.72 1.47 1.35L5.41 20z\"/>\n",
              "  </svg>\n",
              "      </button>\n",
              "      \n",
              "  <style>\n",
              "    .colab-df-container {\n",
              "      display:flex;\n",
              "      flex-wrap:wrap;\n",
              "      gap: 12px;\n",
              "    }\n",
              "\n",
              "    .colab-df-convert {\n",
              "      background-color: #E8F0FE;\n",
              "      border: none;\n",
              "      border-radius: 50%;\n",
              "      cursor: pointer;\n",
              "      display: none;\n",
              "      fill: #1967D2;\n",
              "      height: 32px;\n",
              "      padding: 0 0 0 0;\n",
              "      width: 32px;\n",
              "    }\n",
              "\n",
              "    .colab-df-convert:hover {\n",
              "      background-color: #E2EBFA;\n",
              "      box-shadow: 0px 1px 2px rgba(60, 64, 67, 0.3), 0px 1px 3px 1px rgba(60, 64, 67, 0.15);\n",
              "      fill: #174EA6;\n",
              "    }\n",
              "\n",
              "    [theme=dark] .colab-df-convert {\n",
              "      background-color: #3B4455;\n",
              "      fill: #D2E3FC;\n",
              "    }\n",
              "\n",
              "    [theme=dark] .colab-df-convert:hover {\n",
              "      background-color: #434B5C;\n",
              "      box-shadow: 0px 1px 3px 1px rgba(0, 0, 0, 0.15);\n",
              "      filter: drop-shadow(0px 1px 2px rgba(0, 0, 0, 0.3));\n",
              "      fill: #FFFFFF;\n",
              "    }\n",
              "  </style>\n",
              "\n",
              "      <script>\n",
              "        const buttonEl =\n",
              "          document.querySelector('#df-98538199-b4bc-4ac8-ad65-2a0454a92fa6 button.colab-df-convert');\n",
              "        buttonEl.style.display =\n",
              "          google.colab.kernel.accessAllowed ? 'block' : 'none';\n",
              "\n",
              "        async function convertToInteractive(key) {\n",
              "          const element = document.querySelector('#df-98538199-b4bc-4ac8-ad65-2a0454a92fa6');\n",
              "          const dataTable =\n",
              "            await google.colab.kernel.invokeFunction('convertToInteractive',\n",
              "                                                     [key], {});\n",
              "          if (!dataTable) return;\n",
              "\n",
              "          const docLinkHtml = 'Like what you see? Visit the ' +\n",
              "            '<a target=\"_blank\" href=https://colab.research.google.com/notebooks/data_table.ipynb>data table notebook</a>'\n",
              "            + ' to learn more about interactive tables.';\n",
              "          element.innerHTML = '';\n",
              "          dataTable['output_type'] = 'display_data';\n",
              "          await google.colab.output.renderOutput(dataTable, element);\n",
              "          const docLink = document.createElement('div');\n",
              "          docLink.innerHTML = docLinkHtml;\n",
              "          element.appendChild(docLink);\n",
              "        }\n",
              "      </script>\n",
              "    </div>\n",
              "  </div>\n",
              "  "
            ]
          },
          "metadata": {},
          "execution_count": 6
        }
      ]
    },
    {
      "cell_type": "code",
      "source": [
        "import matplotlib.pyplot as plt\n",
        "import numpy as np"
      ],
      "metadata": {
        "id": "2Y77VF0nUx3l"
      },
      "execution_count": null,
      "outputs": []
    },
    {
      "cell_type": "code",
      "source": [
        "infor2020.head()"
      ],
      "metadata": {
        "colab": {
          "base_uri": "https://localhost:8080/",
          "height": 270
        },
        "id": "7QY7vF6K17Pm",
        "outputId": "31c3ba41-283b-4511-e9ae-3ded5724a6ed"
      },
      "execution_count": null,
      "outputs": [
        {
          "output_type": "execute_result",
          "data": {
            "text/plain": [
              "   STND_Y  IDV_ID   KEY_SEQ  gender  AGE_GROUP  SIDO  RECU_FR_DT  FORM_CD  \\\n",
              "0    2020      29   3724043       1         17    41  2020.12.21        3   \n",
              "1    2020      29   3495225       1         17    41  2020.12.14        3   \n",
              "2    2020     255  10615350       2         18    41   2020.4.20        3   \n",
              "3    2020     255  10616553       2         18    41   2020.4.16        3   \n",
              "4    2020    2406   3105303       2         17    41  2020.12.30        3   \n",
              "\n",
              "   DSBJT_CD MAIN_SICK SUB_SICK  VSCN  RECN  EDEC_ADD_RT  EDEC_TRAMT  \\\n",
              "0         1      I109     E785     1     1         0.15       11540   \n",
              "1         1      I109     E785     1     1         0.15       11540   \n",
              "2         1      I109     I251     1     1         0.15       11540   \n",
              "3         1      I109     I251     1     1         0.15       11540   \n",
              "4         1      I109     E780     1     1         0.15       11540   \n",
              "\n",
              "   EDEC_SBRDN_AMT  EDEC_JBRDN_AMT  TOT_PRES_DD_CNT DATA_STD_DT  \n",
              "0            1500           10040                0  2021.12.28  \n",
              "1            1500           10040                7  2021.12.28  \n",
              "2            1500           10040               30  2021.12.28  \n",
              "3            1500           10040               30  2021.12.28  \n",
              "4            1500           10040                0  2021.12.28  "
            ],
            "text/html": [
              "\n",
              "  <div id=\"df-396128e8-df56-4a42-858f-0ca7889d9dc0\">\n",
              "    <div class=\"colab-df-container\">\n",
              "      <div>\n",
              "<style scoped>\n",
              "    .dataframe tbody tr th:only-of-type {\n",
              "        vertical-align: middle;\n",
              "    }\n",
              "\n",
              "    .dataframe tbody tr th {\n",
              "        vertical-align: top;\n",
              "    }\n",
              "\n",
              "    .dataframe thead th {\n",
              "        text-align: right;\n",
              "    }\n",
              "</style>\n",
              "<table border=\"1\" class=\"dataframe\">\n",
              "  <thead>\n",
              "    <tr style=\"text-align: right;\">\n",
              "      <th></th>\n",
              "      <th>STND_Y</th>\n",
              "      <th>IDV_ID</th>\n",
              "      <th>KEY_SEQ</th>\n",
              "      <th>gender</th>\n",
              "      <th>AGE_GROUP</th>\n",
              "      <th>SIDO</th>\n",
              "      <th>RECU_FR_DT</th>\n",
              "      <th>FORM_CD</th>\n",
              "      <th>DSBJT_CD</th>\n",
              "      <th>MAIN_SICK</th>\n",
              "      <th>SUB_SICK</th>\n",
              "      <th>VSCN</th>\n",
              "      <th>RECN</th>\n",
              "      <th>EDEC_ADD_RT</th>\n",
              "      <th>EDEC_TRAMT</th>\n",
              "      <th>EDEC_SBRDN_AMT</th>\n",
              "      <th>EDEC_JBRDN_AMT</th>\n",
              "      <th>TOT_PRES_DD_CNT</th>\n",
              "      <th>DATA_STD_DT</th>\n",
              "    </tr>\n",
              "  </thead>\n",
              "  <tbody>\n",
              "    <tr>\n",
              "      <th>0</th>\n",
              "      <td>2020</td>\n",
              "      <td>29</td>\n",
              "      <td>3724043</td>\n",
              "      <td>1</td>\n",
              "      <td>17</td>\n",
              "      <td>41</td>\n",
              "      <td>2020.12.21</td>\n",
              "      <td>3</td>\n",
              "      <td>1</td>\n",
              "      <td>I109</td>\n",
              "      <td>E785</td>\n",
              "      <td>1</td>\n",
              "      <td>1</td>\n",
              "      <td>0.15</td>\n",
              "      <td>11540</td>\n",
              "      <td>1500</td>\n",
              "      <td>10040</td>\n",
              "      <td>0</td>\n",
              "      <td>2021.12.28</td>\n",
              "    </tr>\n",
              "    <tr>\n",
              "      <th>1</th>\n",
              "      <td>2020</td>\n",
              "      <td>29</td>\n",
              "      <td>3495225</td>\n",
              "      <td>1</td>\n",
              "      <td>17</td>\n",
              "      <td>41</td>\n",
              "      <td>2020.12.14</td>\n",
              "      <td>3</td>\n",
              "      <td>1</td>\n",
              "      <td>I109</td>\n",
              "      <td>E785</td>\n",
              "      <td>1</td>\n",
              "      <td>1</td>\n",
              "      <td>0.15</td>\n",
              "      <td>11540</td>\n",
              "      <td>1500</td>\n",
              "      <td>10040</td>\n",
              "      <td>7</td>\n",
              "      <td>2021.12.28</td>\n",
              "    </tr>\n",
              "    <tr>\n",
              "      <th>2</th>\n",
              "      <td>2020</td>\n",
              "      <td>255</td>\n",
              "      <td>10615350</td>\n",
              "      <td>2</td>\n",
              "      <td>18</td>\n",
              "      <td>41</td>\n",
              "      <td>2020.4.20</td>\n",
              "      <td>3</td>\n",
              "      <td>1</td>\n",
              "      <td>I109</td>\n",
              "      <td>I251</td>\n",
              "      <td>1</td>\n",
              "      <td>1</td>\n",
              "      <td>0.15</td>\n",
              "      <td>11540</td>\n",
              "      <td>1500</td>\n",
              "      <td>10040</td>\n",
              "      <td>30</td>\n",
              "      <td>2021.12.28</td>\n",
              "    </tr>\n",
              "    <tr>\n",
              "      <th>3</th>\n",
              "      <td>2020</td>\n",
              "      <td>255</td>\n",
              "      <td>10616553</td>\n",
              "      <td>2</td>\n",
              "      <td>18</td>\n",
              "      <td>41</td>\n",
              "      <td>2020.4.16</td>\n",
              "      <td>3</td>\n",
              "      <td>1</td>\n",
              "      <td>I109</td>\n",
              "      <td>I251</td>\n",
              "      <td>1</td>\n",
              "      <td>1</td>\n",
              "      <td>0.15</td>\n",
              "      <td>11540</td>\n",
              "      <td>1500</td>\n",
              "      <td>10040</td>\n",
              "      <td>30</td>\n",
              "      <td>2021.12.28</td>\n",
              "    </tr>\n",
              "    <tr>\n",
              "      <th>4</th>\n",
              "      <td>2020</td>\n",
              "      <td>2406</td>\n",
              "      <td>3105303</td>\n",
              "      <td>2</td>\n",
              "      <td>17</td>\n",
              "      <td>41</td>\n",
              "      <td>2020.12.30</td>\n",
              "      <td>3</td>\n",
              "      <td>1</td>\n",
              "      <td>I109</td>\n",
              "      <td>E780</td>\n",
              "      <td>1</td>\n",
              "      <td>1</td>\n",
              "      <td>0.15</td>\n",
              "      <td>11540</td>\n",
              "      <td>1500</td>\n",
              "      <td>10040</td>\n",
              "      <td>0</td>\n",
              "      <td>2021.12.28</td>\n",
              "    </tr>\n",
              "  </tbody>\n",
              "</table>\n",
              "</div>\n",
              "      <button class=\"colab-df-convert\" onclick=\"convertToInteractive('df-396128e8-df56-4a42-858f-0ca7889d9dc0')\"\n",
              "              title=\"Convert this dataframe to an interactive table.\"\n",
              "              style=\"display:none;\">\n",
              "        \n",
              "  <svg xmlns=\"http://www.w3.org/2000/svg\" height=\"24px\"viewBox=\"0 0 24 24\"\n",
              "       width=\"24px\">\n",
              "    <path d=\"M0 0h24v24H0V0z\" fill=\"none\"/>\n",
              "    <path d=\"M18.56 5.44l.94 2.06.94-2.06 2.06-.94-2.06-.94-.94-2.06-.94 2.06-2.06.94zm-11 1L8.5 8.5l.94-2.06 2.06-.94-2.06-.94L8.5 2.5l-.94 2.06-2.06.94zm10 10l.94 2.06.94-2.06 2.06-.94-2.06-.94-.94-2.06-.94 2.06-2.06.94z\"/><path d=\"M17.41 7.96l-1.37-1.37c-.4-.4-.92-.59-1.43-.59-.52 0-1.04.2-1.43.59L10.3 9.45l-7.72 7.72c-.78.78-.78 2.05 0 2.83L4 21.41c.39.39.9.59 1.41.59.51 0 1.02-.2 1.41-.59l7.78-7.78 2.81-2.81c.8-.78.8-2.07 0-2.86zM5.41 20L4 18.59l7.72-7.72 1.47 1.35L5.41 20z\"/>\n",
              "  </svg>\n",
              "      </button>\n",
              "      \n",
              "  <style>\n",
              "    .colab-df-container {\n",
              "      display:flex;\n",
              "      flex-wrap:wrap;\n",
              "      gap: 12px;\n",
              "    }\n",
              "\n",
              "    .colab-df-convert {\n",
              "      background-color: #E8F0FE;\n",
              "      border: none;\n",
              "      border-radius: 50%;\n",
              "      cursor: pointer;\n",
              "      display: none;\n",
              "      fill: #1967D2;\n",
              "      height: 32px;\n",
              "      padding: 0 0 0 0;\n",
              "      width: 32px;\n",
              "    }\n",
              "\n",
              "    .colab-df-convert:hover {\n",
              "      background-color: #E2EBFA;\n",
              "      box-shadow: 0px 1px 2px rgba(60, 64, 67, 0.3), 0px 1px 3px 1px rgba(60, 64, 67, 0.15);\n",
              "      fill: #174EA6;\n",
              "    }\n",
              "\n",
              "    [theme=dark] .colab-df-convert {\n",
              "      background-color: #3B4455;\n",
              "      fill: #D2E3FC;\n",
              "    }\n",
              "\n",
              "    [theme=dark] .colab-df-convert:hover {\n",
              "      background-color: #434B5C;\n",
              "      box-shadow: 0px 1px 3px 1px rgba(0, 0, 0, 0.15);\n",
              "      filter: drop-shadow(0px 1px 2px rgba(0, 0, 0, 0.3));\n",
              "      fill: #FFFFFF;\n",
              "    }\n",
              "  </style>\n",
              "\n",
              "      <script>\n",
              "        const buttonEl =\n",
              "          document.querySelector('#df-396128e8-df56-4a42-858f-0ca7889d9dc0 button.colab-df-convert');\n",
              "        buttonEl.style.display =\n",
              "          google.colab.kernel.accessAllowed ? 'block' : 'none';\n",
              "\n",
              "        async function convertToInteractive(key) {\n",
              "          const element = document.querySelector('#df-396128e8-df56-4a42-858f-0ca7889d9dc0');\n",
              "          const dataTable =\n",
              "            await google.colab.kernel.invokeFunction('convertToInteractive',\n",
              "                                                     [key], {});\n",
              "          if (!dataTable) return;\n",
              "\n",
              "          const docLinkHtml = 'Like what you see? Visit the ' +\n",
              "            '<a target=\"_blank\" href=https://colab.research.google.com/notebooks/data_table.ipynb>data table notebook</a>'\n",
              "            + ' to learn more about interactive tables.';\n",
              "          element.innerHTML = '';\n",
              "          dataTable['output_type'] = 'display_data';\n",
              "          await google.colab.output.renderOutput(dataTable, element);\n",
              "          const docLink = document.createElement('div');\n",
              "          docLink.innerHTML = docLinkHtml;\n",
              "          element.appendChild(docLink);\n",
              "        }\n",
              "      </script>\n",
              "    </div>\n",
              "  </div>\n",
              "  "
            ]
          },
          "metadata": {},
          "execution_count": 8
        }
      ]
    },
    {
      "cell_type": "code",
      "source": [
        "age=np.array(infor2020['AGE_GROUP'])"
      ],
      "metadata": {
        "id": "FLzoO7EUTvDz"
      },
      "execution_count": null,
      "outputs": []
    },
    {
      "cell_type": "code",
      "source": [
        "age"
      ],
      "metadata": {
        "colab": {
          "base_uri": "https://localhost:8080/"
        },
        "id": "8BqxPytH2E2b",
        "outputId": "d7ad912c-ebd2-4a14-8314-0325e5f54ec0"
      },
      "execution_count": null,
      "outputs": [
        {
          "output_type": "execute_result",
          "data": {
            "text/plain": [
              "array([17, 17, 18, ...,  2,  5,  2])"
            ]
          },
          "metadata": {},
          "execution_count": 10
        }
      ]
    },
    {
      "cell_type": "code",
      "source": [
        "gender=list(infor2020['gender'])"
      ],
      "metadata": {
        "id": "OjD17_KJV6qO"
      },
      "execution_count": null,
      "outputs": []
    },
    {
      "cell_type": "code",
      "source": [
        "gender"
      ],
      "metadata": {
        "id": "O9NGo9k4V-Yi"
      },
      "execution_count": null,
      "outputs": []
    },
    {
      "cell_type": "code",
      "source": [
        "plt.style.use('seaborn-whitegrid')"
      ],
      "metadata": {
        "id": "Z0P6mUDpLvjC",
        "colab": {
          "base_uri": "https://localhost:8080/"
        },
        "outputId": "110365c4-6673-436f-cb7d-d77cb7d883ed"
      },
      "execution_count": null,
      "outputs": [
        {
          "output_type": "stream",
          "name": "stderr",
          "text": [
            "<ipython-input-13-adcf1482bdd0>:1: MatplotlibDeprecationWarning: The seaborn styles shipped by Matplotlib are deprecated since 3.6, as they no longer correspond to the styles shipped by seaborn. However, they will remain available as 'seaborn-v0_8-<style>'. Alternatively, directly use the seaborn API instead.\n",
            "  plt.style.use('seaborn-whitegrid')\n"
          ]
        }
      ]
    },
    {
      "cell_type": "code",
      "source": [
        "plt.hist(age,bins=18,color='#800080')"
      ],
      "metadata": {
        "colab": {
          "base_uri": "https://localhost:8080/",
          "height": 568
        },
        "id": "TOyVBx3vSvEl",
        "outputId": "d59a2a18-54b2-437a-e14e-ade68780b894"
      },
      "execution_count": null,
      "outputs": [
        {
          "output_type": "execute_result",
          "data": {
            "text/plain": [
              "(array([   184.,  20343.,  14492.,  14575.,  13789.,  16222.,  16309.,\n",
              "         21152.,  23300.,  27050.,  32817.,  38681.,  47402., 108853.,\n",
              "        106634.,  97139.,  64265.,  36793.]),\n",
              " array([ 1.        ,  1.94444444,  2.88888889,  3.83333333,  4.77777778,\n",
              "         5.72222222,  6.66666667,  7.61111111,  8.55555556,  9.5       ,\n",
              "        10.44444444, 11.38888889, 12.33333333, 13.27777778, 14.22222222,\n",
              "        15.16666667, 16.11111111, 17.05555556, 18.        ]),\n",
              " <BarContainer object of 18 artists>)"
            ]
          },
          "metadata": {},
          "execution_count": 18
        },
        {
          "output_type": "display_data",
          "data": {
            "text/plain": [
              "<Figure size 640x480 with 1 Axes>"
            ],
            "image/png": "[encoded data removed]"
          },
          "metadata": {}
        }
      ]
    },
    {
      "cell_type": "code",
      "source": [
        "plt.hist(gender,bins=2,color='#723048')"
      ],
      "metadata": {
        "colab": {
          "base_uri": "https://localhost:8080/",
          "height": 479
        },
        "id": "UjGQVRqHLxps",
        "outputId": "910e1228-3d4e-4c3d-f13c-77a2aa17b6a1"
      },
      "execution_count": null,
      "outputs": [
        {
          "output_type": "execute_result",
          "data": {
            "text/plain": [
              "(array([295550., 404450.]),\n",
              " array([1. , 1.5, 2. ]),\n",
              " <BarContainer object of 2 artists>)"
            ]
          },
          "metadata": {},
          "execution_count": 19
        },
        {
          "output_type": "display_data",
          "data": {
            "text/plain": [
              "<Figure size 640x480 with 1 Axes>"
            ],
            "image/png": "[encoded data removed]"
          },
          "metadata": {}
        }
      ]
    },
    {
      "cell_type": "code",
      "source": [
        "fig=plt.figure()\n",
        "ax=plt.axes()"
      ],
      "metadata": {
        "colab": {
          "base_uri": "https://localhost:8080/",
          "height": 266
        },
        "id": "cry2jehUK3Su",
        "outputId": "702a7f34-e136-414a-e59b-a5270084a238"
      },
      "execution_count": null,
      "outputs": [
        {
          "output_type": "display_data",
          "data": {
            "text/plain": [
              "<Figure size 432x288 with 1 Axes>"
            ],
            "image/png": "[encoded data removed]"
          },
          "metadata": {}
        }
      ]
    },
    {
      "cell_type": "markdown",
      "source": [
        "# 자료형 II : Dictionary, Set"
      ],
      "metadata": {
        "id": "KZcWhl4Vz1zw"
      }
    },
    {
      "cell_type": "code",
      "source": [
        "dic={'a':1,'b':2,'c':3}\n",
        "dic"
      ],
      "metadata": {
        "id": "Ajn4vv9ILYkk",
        "colab": {
          "base_uri": "https://localhost:8080/"
        },
        "outputId": "0f978295-ed1e-4564-ceaa-cc9204b91fc6"
      },
      "execution_count": null,
      "outputs": [
        {
          "output_type": "execute_result",
          "data": {
            "text/plain": [
              "{'a': 1, 'b': 2, 'c': 3}"
            ]
          },
          "metadata": {},
          "execution_count": 29
        }
      ]
    },
    {
      "cell_type": "code",
      "source": [
        "print(dic['a'],dic['b'],dic['c'])"
      ],
      "metadata": {
        "colab": {
          "base_uri": "https://localhost:8080/"
        },
        "id": "OJhdxXkP0ciR",
        "outputId": "b34c275b-1390-4795-cbbc-55923f811e16"
      },
      "execution_count": null,
      "outputs": [
        {
          "output_type": "stream",
          "name": "stdout",
          "text": [
            "1 2 3\n"
          ]
        }
      ]
    },
    {
      "cell_type": "code",
      "source": [
        "dic[0]"
      ],
      "metadata": {
        "colab": {
          "base_uri": "https://localhost:8080/",
          "height": 170
        },
        "id": "X9hWIBG30s_-",
        "outputId": "c454232e-bed2-4000-fc5f-3a783693f144"
      },
      "execution_count": null,
      "outputs": [
        {
          "output_type": "error",
          "ename": "KeyError",
          "evalue": "ignored",
          "traceback": [
            "\u001b[0;31m---------------------------------------------------------------------------\u001b[0m",
            "\u001b[0;31mKeyError\u001b[0m                                  Traceback (most recent call last)",
            "\u001b[0;32m<ipython-input-10-d5a2f4e83513>\u001b[0m in \u001b[0;36m<module>\u001b[0;34m\u001b[0m\n\u001b[0;32m----> 1\u001b[0;31m \u001b[0mdic\u001b[0m\u001b[0;34m[\u001b[0m\u001b[0;36m0\u001b[0m\u001b[0;34m]\u001b[0m\u001b[0;34m\u001b[0m\u001b[0;34m\u001b[0m\u001b[0m\n\u001b[0m",
            "\u001b[0;31mKeyError\u001b[0m: 0"
          ]
        }
      ]
    },
    {
      "cell_type": "code",
      "source": [
        "print(dic.get('c'))"
      ],
      "metadata": {
        "colab": {
          "base_uri": "https://localhost:8080/"
        },
        "id": "sisbYJob1p26",
        "outputId": "6c41d339-9e06-4f7a-ee46-f64bdf9bb0a6"
      },
      "execution_count": null,
      "outputs": [
        {
          "output_type": "stream",
          "name": "stdout",
          "text": [
            "3\n"
          ]
        }
      ]
    },
    {
      "cell_type": "code",
      "source": [
        "print(dic.get(0))"
      ],
      "metadata": {
        "colab": {
          "base_uri": "https://localhost:8080/"
        },
        "id": "c_TaZW6-1tZp",
        "outputId": "da2f0416-c93a-4226-e33c-37ed2fcbc179"
      },
      "execution_count": null,
      "outputs": [
        {
          "output_type": "stream",
          "name": "stdout",
          "text": [
            "None\n"
          ]
        }
      ]
    },
    {
      "cell_type": "code",
      "source": [
        "dic['d']=4"
      ],
      "metadata": {
        "id": "JSIpi8iY3IVE"
      },
      "execution_count": null,
      "outputs": []
    },
    {
      "cell_type": "code",
      "source": [
        "print(dic)"
      ],
      "metadata": {
        "colab": {
          "base_uri": "https://localhost:8080/"
        },
        "id": "R6aUQMB33NYy",
        "outputId": "8442535c-509c-443e-a448-5e4b1d3b5a8a"
      },
      "execution_count": null,
      "outputs": [
        {
          "output_type": "stream",
          "name": "stdout",
          "text": [
            "{'a': 1, 'b': 2, 'c': 3}\n"
          ]
        }
      ]
    },
    {
      "cell_type": "code",
      "source": [
        "len(dic)"
      ],
      "metadata": {
        "colab": {
          "base_uri": "https://localhost:8080/"
        },
        "id": "oxa3T-fDCEw4",
        "outputId": "355f4c82-8420-40f6-d46c-141a0caf31a4"
      },
      "execution_count": null,
      "outputs": [
        {
          "output_type": "execute_result",
          "data": {
            "text/plain": [
              "3"
            ]
          },
          "metadata": {},
          "execution_count": 48
        }
      ]
    },
    {
      "cell_type": "code",
      "source": [
        "print(dic.keys())\n",
        "print(dic.values())\n",
        "print(dic.items())"
      ],
      "metadata": {
        "id": "B1EpLAu58L42",
        "colab": {
          "base_uri": "https://localhost:8080/"
        },
        "outputId": "931dcd54-c181-4b44-8f05-150363ce0f2b"
      },
      "execution_count": null,
      "outputs": [
        {
          "output_type": "stream",
          "name": "stdout",
          "text": [
            "dict_keys(['a', 'b', 'c'])\n",
            "dict_values([1, 2, 3])\n",
            "dict_items([('a', 1), ('b', 2), ('c', 3)])\n"
          ]
        }
      ]
    },
    {
      "cell_type": "code",
      "source": [
        "dic['d']='F'"
      ],
      "metadata": {
        "id": "rCbYHwje3xF_"
      },
      "execution_count": null,
      "outputs": []
    },
    {
      "cell_type": "code",
      "source": [
        "print(dic)"
      ],
      "metadata": {
        "colab": {
          "base_uri": "https://localhost:8080/"
        },
        "id": "1XpD9x-L30uy",
        "outputId": "4a9947a5-0bbe-4627-eb3b-0293c6227d75"
      },
      "execution_count": null,
      "outputs": [
        {
          "output_type": "stream",
          "name": "stdout",
          "text": [
            "{'a': 1, 'b': 2, 'c': 3, 'd': 'F'}\n"
          ]
        }
      ]
    },
    {
      "cell_type": "code",
      "source": [
        "del dic['d']"
      ],
      "metadata": {
        "id": "YGmlFbZ55T5c"
      },
      "execution_count": null,
      "outputs": []
    },
    {
      "cell_type": "code",
      "source": [
        "print(dic.get('d'))"
      ],
      "metadata": {
        "colab": {
          "base_uri": "https://localhost:8080/"
        },
        "id": "QYkkfNzI5f9G",
        "outputId": "25241e99-d6bf-42e0-e238-784bcddf9ed1"
      },
      "execution_count": null,
      "outputs": [
        {
          "output_type": "stream",
          "name": "stdout",
          "text": [
            "None\n"
          ]
        }
      ]
    },
    {
      "cell_type": "code",
      "source": [
        "dic"
      ],
      "metadata": {
        "colab": {
          "base_uri": "https://localhost:8080/"
        },
        "id": "2VF_o5US5kHe",
        "outputId": "fb20d3ae-c061-49ac-9a4e-10688107dee5"
      },
      "execution_count": null,
      "outputs": [
        {
          "output_type": "execute_result",
          "data": {
            "text/plain": [
              "{'a': 1, 'b': 2, 'c': 3}"
            ]
          },
          "metadata": {},
          "execution_count": 22
        }
      ]
    },
    {
      "cell_type": "code",
      "source": [
        "dic.clear()"
      ],
      "metadata": {
        "id": "rM3pDY1K5oEE"
      },
      "execution_count": null,
      "outputs": []
    },
    {
      "cell_type": "code",
      "source": [
        "dic"
      ],
      "metadata": {
        "colab": {
          "base_uri": "https://localhost:8080/"
        },
        "id": "-Qjfj1AX5rZH",
        "outputId": "ffb4c928-0783-4459-f0ff-f24b3a508ae2"
      },
      "execution_count": null,
      "outputs": [
        {
          "output_type": "execute_result",
          "data": {
            "text/plain": [
              "{}"
            ]
          },
          "metadata": {},
          "execution_count": 24
        }
      ]
    },
    {
      "cell_type": "code",
      "source": [
        "set_fruits = {'apple', 'orange', 'apple', 'tomato', 'orange', 'banana'}"
      ],
      "metadata": {
        "id": "swhayUWY6SwZ"
      },
      "execution_count": null,
      "outputs": []
    },
    {
      "cell_type": "code",
      "source": [
        "set_fruits"
      ],
      "metadata": {
        "colab": {
          "base_uri": "https://localhost:8080/"
        },
        "id": "qUck05H16X5C",
        "outputId": "82dc9b29-19ac-4843-cf10-b61c93eee645"
      },
      "execution_count": null,
      "outputs": [
        {
          "output_type": "execute_result",
          "data": {
            "text/plain": [
              "{'apple', 'banana', 'orange', 'tomato'}"
            ]
          },
          "metadata": {},
          "execution_count": 3
        }
      ]
    },
    {
      "cell_type": "code",
      "source": [
        "set_fruits.update(['tomato','apple','grape'])"
      ],
      "metadata": {
        "id": "gjm1V7Kg35VF"
      },
      "execution_count": null,
      "outputs": []
    },
    {
      "cell_type": "code",
      "source": [
        "set_fruits"
      ],
      "metadata": {
        "colab": {
          "base_uri": "https://localhost:8080/"
        },
        "id": "wl2kBZsE39vX",
        "outputId": "d6f7d22e-dcaa-42a0-806a-71bfe21b12b5"
      },
      "execution_count": null,
      "outputs": [
        {
          "output_type": "execute_result",
          "data": {
            "text/plain": [
              "{'apple', 'banana', 'grape', 'orange', 'tomato'}"
            ]
          },
          "metadata": {},
          "execution_count": 14
        }
      ]
    },
    {
      "cell_type": "code",
      "source": [
        "set_fruits = {'apple', 'orange', 'apple', 'tomato', 'orange', 'banana'}"
      ],
      "metadata": {
        "id": "dkzqljz8_By4"
      },
      "execution_count": null,
      "outputs": []
    },
    {
      "cell_type": "code",
      "source": [
        "set_vegi = {'tomato', 'lettuce','eggplant'}"
      ],
      "metadata": {
        "id": "CqwbSZE89K_L"
      },
      "execution_count": null,
      "outputs": []
    },
    {
      "cell_type": "code",
      "source": [
        "set_fruits & set_vegi"
      ],
      "metadata": {
        "colab": {
          "base_uri": "https://localhost:8080/"
        },
        "id": "8wEKN-p89hSj",
        "outputId": "8cb23647-c724-4e40-ba34-7b9daabdf2cc"
      },
      "execution_count": null,
      "outputs": [
        {
          "output_type": "execute_result",
          "data": {
            "text/plain": [
              "{'tomato'}"
            ]
          },
          "metadata": {},
          "execution_count": 35
        }
      ]
    },
    {
      "cell_type": "code",
      "source": [
        "set_fruits.intersection(set_vegi)"
      ],
      "metadata": {
        "colab": {
          "base_uri": "https://localhost:8080/"
        },
        "id": "qKPeEyeB9yeD",
        "outputId": "a5175958-1500-4cfd-8287-b561bb8d8bea"
      },
      "execution_count": null,
      "outputs": [
        {
          "output_type": "execute_result",
          "data": {
            "text/plain": [
              "{'tomato'}"
            ]
          },
          "metadata": {},
          "execution_count": 39
        }
      ]
    },
    {
      "cell_type": "code",
      "source": [
        "set_fruits | set_vegi"
      ],
      "metadata": {
        "colab": {
          "base_uri": "https://localhost:8080/"
        },
        "id": "JvbvjHNO9tdk",
        "outputId": "80417087-595a-401d-ed63-6a0c1a9f6e3d"
      },
      "execution_count": null,
      "outputs": [
        {
          "output_type": "execute_result",
          "data": {
            "text/plain": [
              "{'apple', 'banana', 'eggplant', 'lettuce', 'orange', 'tomato'}"
            ]
          },
          "metadata": {},
          "execution_count": 44
        }
      ]
    },
    {
      "cell_type": "code",
      "source": [
        "set_fruits.union(set_vegi)"
      ],
      "metadata": {
        "colab": {
          "base_uri": "https://localhost:8080/"
        },
        "id": "dC8QU5NI-IP3",
        "outputId": "b4f6a4ca-ab5e-41ab-bb94-8971151d1e01"
      },
      "execution_count": null,
      "outputs": [
        {
          "output_type": "execute_result",
          "data": {
            "text/plain": [
              "{'apple', 'banana', 'eggplant', 'lettuce', 'orange', 'tomato'}"
            ]
          },
          "metadata": {},
          "execution_count": 42
        }
      ]
    },
    {
      "cell_type": "code",
      "source": [
        "set_fruits - set_vegi"
      ],
      "metadata": {
        "colab": {
          "base_uri": "https://localhost:8080/"
        },
        "id": "5PaV4x_N-Olv",
        "outputId": "a4061487-e9ec-489c-bfb9-e83996750d6e"
      },
      "execution_count": null,
      "outputs": [
        {
          "output_type": "execute_result",
          "data": {
            "text/plain": [
              "{'apple', 'banana', 'orange'}"
            ]
          },
          "metadata": {},
          "execution_count": 41
        }
      ]
    },
    {
      "cell_type": "code",
      "source": [
        "set_fruits.difference(set_vegi)"
      ],
      "metadata": {
        "colab": {
          "base_uri": "https://localhost:8080/"
        },
        "id": "gxeyJ2WD-MlI",
        "outputId": "530820b8-b2c2-45dd-9d5f-3a453913dc70"
      },
      "execution_count": null,
      "outputs": [
        {
          "output_type": "execute_result",
          "data": {
            "text/plain": [
              "{'apple', 'banana', 'orange'}"
            ]
          },
          "metadata": {},
          "execution_count": 40
        }
      ]
    },
    {
      "cell_type": "code",
      "source": [
        "len(set_fruits)"
      ],
      "metadata": {
        "colab": {
          "base_uri": "https://localhost:8080/"
        },
        "id": "6p1FDoTtBsv7",
        "outputId": "dcc9bf84-8170-4ef3-e2d5-4be87ed722d3"
      },
      "execution_count": null,
      "outputs": [
        {
          "output_type": "execute_result",
          "data": {
            "text/plain": [
              "4"
            ]
          },
          "metadata": {},
          "execution_count": 46
        }
      ]
    },
    {
      "cell_type": "code",
      "source": [
        "set_fruits"
      ],
      "metadata": {
        "colab": {
          "base_uri": "https://localhost:8080/"
        },
        "id": "rZPMejTbBvYI",
        "outputId": "6f6e4cb7-84f3-4296-9ffb-bdd2fefa5fec"
      },
      "execution_count": null,
      "outputs": [
        {
          "output_type": "execute_result",
          "data": {
            "text/plain": [
              "{'apple', 'banana', 'orange', 'tomato'}"
            ]
          },
          "metadata": {},
          "execution_count": 49
        }
      ]
    },
    {
      "cell_type": "code",
      "source": [
        "set_fruits.add('grape')"
      ],
      "metadata": {
        "id": "EEkE3fxUEbwe"
      },
      "execution_count": null,
      "outputs": []
    },
    {
      "cell_type": "code",
      "source": [
        "set_fruits"
      ],
      "metadata": {
        "colab": {
          "base_uri": "https://localhost:8080/"
        },
        "id": "XLn1uCpXEft5",
        "outputId": "8306c174-4f49-4d4d-c020-57ce50e90844"
      },
      "execution_count": null,
      "outputs": [
        {
          "output_type": "execute_result",
          "data": {
            "text/plain": [
              "{'apple', 'banana', 'grape', 'orange', 'tomato'}"
            ]
          },
          "metadata": {},
          "execution_count": 54
        }
      ]
    },
    {
      "cell_type": "code",
      "source": [
        "set_fruits.update(['cherry','pear'])"
      ],
      "metadata": {
        "id": "XfqignOQEhVy"
      },
      "execution_count": null,
      "outputs": []
    },
    {
      "cell_type": "code",
      "source": [
        "set_fruits"
      ],
      "metadata": {
        "colab": {
          "base_uri": "https://localhost:8080/"
        },
        "id": "4CD6wCVeE3q8",
        "outputId": "07984e43-5d25-48ea-c6bf-98a021d56d6b"
      },
      "execution_count": null,
      "outputs": [
        {
          "output_type": "execute_result",
          "data": {
            "text/plain": [
              "{'apple', 'banana', 'cherry', 'grape', 'orange', 'pear', 'tomato'}"
            ]
          },
          "metadata": {},
          "execution_count": 64
        }
      ]
    },
    {
      "cell_type": "code",
      "source": [
        "set_fruits.remove('tomato')"
      ],
      "metadata": {
        "id": "hinWxvqMFBjA"
      },
      "execution_count": null,
      "outputs": []
    },
    {
      "cell_type": "code",
      "source": [
        "set_fruits"
      ],
      "metadata": {
        "colab": {
          "base_uri": "https://localhost:8080/"
        },
        "id": "HZ3Puvr9FFZn",
        "outputId": "b744299f-6428-4b50-be15-97b83310fd1e"
      },
      "execution_count": null,
      "outputs": [
        {
          "output_type": "execute_result",
          "data": {
            "text/plain": [
              "{'apple', 'banana', 'orange', 'tomato'}"
            ]
          },
          "metadata": {},
          "execution_count": 27
        }
      ]
    },
    {
      "cell_type": "code",
      "source": [
        "set_fruits.clear()"
      ],
      "metadata": {
        "id": "ts-Y6nO3IDFw"
      },
      "execution_count": null,
      "outputs": []
    },
    {
      "cell_type": "markdown",
      "source": [
        "# Iterable & next ft"
      ],
      "metadata": {
        "id": "mBWUR9DdhUBZ"
      }
    },
    {
      "cell_type": "code",
      "source": [
        "set_fruits"
      ],
      "metadata": {
        "id": "NNwfJg83IE5r",
        "outputId": "863bce24-f01c-44d6-b055-6003e9c13e01",
        "colab": {
          "base_uri": "https://localhost:8080/"
        }
      },
      "execution_count": null,
      "outputs": [
        {
          "output_type": "execute_result",
          "data": {
            "text/plain": [
              "{'apple', 'banana', 'orange', 'tomato'}"
            ]
          },
          "metadata": {},
          "execution_count": 28
        }
      ]
    },
    {
      "cell_type": "code",
      "source": [
        "for f in set_fruits:\n",
        "  print(f)"
      ],
      "metadata": {
        "colab": {
          "base_uri": "https://localhost:8080/"
        },
        "id": "ysqINAeeeb_F",
        "outputId": "d6800a2c-e5f7-4c2d-8dae-792163784640"
      },
      "execution_count": null,
      "outputs": [
        {
          "output_type": "stream",
          "name": "stdout",
          "text": [
            "apple\n",
            "orange\n",
            "banana\n",
            "tomato\n"
          ]
        }
      ]
    },
    {
      "cell_type": "code",
      "source": [
        "sum=0\n",
        "for k in [1,2,3,4] :\n",
        "   sum+=k"
      ],
      "metadata": {
        "id": "hs4cevWsbhH9"
      },
      "execution_count": null,
      "outputs": []
    },
    {
      "cell_type": "code",
      "source": [
        "sum"
      ],
      "metadata": {
        "colab": {
          "base_uri": "https://localhost:8080/"
        },
        "id": "R3gs68Fab52E",
        "outputId": "a4e0aa50-ad19-467a-f006-54abbb6eed24"
      },
      "execution_count": null,
      "outputs": [
        {
          "output_type": "execute_result",
          "data": {
            "text/plain": [
              "10"
            ]
          },
          "metadata": {},
          "execution_count": 37
        }
      ]
    },
    {
      "cell_type": "code",
      "source": [
        "it = iter(range(3))"
      ],
      "metadata": {
        "id": "8Fb0vFdhdFTx"
      },
      "execution_count": null,
      "outputs": []
    },
    {
      "cell_type": "code",
      "source": [
        "next(it, 4)"
      ],
      "metadata": {
        "colab": {
          "base_uri": "https://localhost:8080/"
        },
        "id": "URXIyHNTdhw0",
        "outputId": "cbf14071-17ca-404a-d0a0-683c7075f783"
      },
      "execution_count": null,
      "outputs": [
        {
          "output_type": "execute_result",
          "data": {
            "text/plain": [
              "0"
            ]
          },
          "metadata": {},
          "execution_count": 52
        }
      ]
    },
    {
      "cell_type": "code",
      "source": [
        "next(it, 4)"
      ],
      "metadata": {
        "colab": {
          "base_uri": "https://localhost:8080/"
        },
        "id": "3ZAURnXCdi_K",
        "outputId": "b8a4d81e-18a0-4244-dbc4-393dfe4fdd24"
      },
      "execution_count": null,
      "outputs": [
        {
          "output_type": "execute_result",
          "data": {
            "text/plain": [
              "1"
            ]
          },
          "metadata": {},
          "execution_count": 53
        }
      ]
    },
    {
      "cell_type": "code",
      "source": [
        "next(it, 4)"
      ],
      "metadata": {
        "colab": {
          "base_uri": "https://localhost:8080/"
        },
        "id": "dTOgRinNdqPs",
        "outputId": "565affd3-f21d-4406-9352-9071c8fc86a1"
      },
      "execution_count": null,
      "outputs": [
        {
          "output_type": "execute_result",
          "data": {
            "text/plain": [
              "2"
            ]
          },
          "metadata": {},
          "execution_count": 54
        }
      ]
    },
    {
      "cell_type": "code",
      "source": [
        "next(it, 4)"
      ],
      "metadata": {
        "colab": {
          "base_uri": "https://localhost:8080/"
        },
        "id": "RONbYmQmdrlW",
        "outputId": "ac2d9480-3868-4702-d438-3cbd7d80e16c"
      },
      "execution_count": null,
      "outputs": [
        {
          "output_type": "execute_result",
          "data": {
            "text/plain": [
              "4"
            ]
          },
          "metadata": {},
          "execution_count": 55
        }
      ]
    },
    {
      "cell_type": "code",
      "source": [
        "next(it, 4)"
      ],
      "metadata": {
        "colab": {
          "base_uri": "https://localhost:8080/"
        },
        "id": "HJRw6lM6dsUO",
        "outputId": "f2c01189-2729-433c-c416-80f0389300f1"
      },
      "execution_count": null,
      "outputs": [
        {
          "output_type": "execute_result",
          "data": {
            "text/plain": [
              "4"
            ]
          },
          "metadata": {},
          "execution_count": 56
        }
      ]
    },
    {
      "cell_type": "code",
      "source": [
        "it"
      ],
      "metadata": {
        "colab": {
          "base_uri": "https://localhost:8080/"
        },
        "id": "5Dy1gAgsdGtX",
        "outputId": "6c869ed4-1f2a-424c-cf23-5eb80a32f8cf"
      },
      "execution_count": null,
      "outputs": [
        {
          "output_type": "execute_result",
          "data": {
            "text/plain": [
              "<range_iterator at 0x7f7d06b34e40>"
            ]
          },
          "metadata": {},
          "execution_count": 41
        }
      ]
    },
    {
      "cell_type": "code",
      "source": [
        "x=[1,2,3,4]"
      ],
      "metadata": {
        "id": "pobu0HdycoZ_"
      },
      "execution_count": null,
      "outputs": []
    },
    {
      "cell_type": "code",
      "source": [
        "next(x)"
      ],
      "metadata": {
        "colab": {
          "base_uri": "https://localhost:8080/",
          "height": 170
        },
        "id": "Ihu7dqgLeUNp",
        "outputId": "264f35ca-7129-4e11-feb0-d75740595b85"
      },
      "execution_count": null,
      "outputs": [
        {
          "output_type": "error",
          "ename": "TypeError",
          "evalue": "ignored",
          "traceback": [
            "\u001b[0;31m---------------------------------------------------------------------------\u001b[0m",
            "\u001b[0;31mTypeError\u001b[0m                                 Traceback (most recent call last)",
            "\u001b[0;32m<ipython-input-63-92de4e9f6b1e>\u001b[0m in \u001b[0;36m<module>\u001b[0;34m\u001b[0m\n\u001b[0;32m----> 1\u001b[0;31m \u001b[0mnext\u001b[0m\u001b[0;34m(\u001b[0m\u001b[0mx\u001b[0m\u001b[0;34m)\u001b[0m\u001b[0;34m\u001b[0m\u001b[0;34m\u001b[0m\u001b[0m\n\u001b[0m",
            "\u001b[0;31mTypeError\u001b[0m: 'list' object is not an iterator"
          ]
        }
      ]
    },
    {
      "cell_type": "code",
      "source": [
        "y=iter(x)"
      ],
      "metadata": {
        "id": "9l0YCmIbd5Im"
      },
      "execution_count": null,
      "outputs": []
    },
    {
      "cell_type": "code",
      "source": [
        "next(y)"
      ],
      "metadata": {
        "colab": {
          "base_uri": "https://localhost:8080/"
        },
        "id": "ZPH7pPAncp12",
        "outputId": "057cf8da-e541-44d3-9871-d61f2c20396e"
      },
      "execution_count": null,
      "outputs": [
        {
          "output_type": "execute_result",
          "data": {
            "text/plain": [
              "1"
            ]
          },
          "metadata": {},
          "execution_count": 58
        }
      ]
    },
    {
      "cell_type": "code",
      "source": [
        "next(y)"
      ],
      "metadata": {
        "colab": {
          "base_uri": "https://localhost:8080/"
        },
        "id": "mYTw1Rgvd-LM",
        "outputId": "79542258-dc25-4a8b-9230-902bfe48ceb0"
      },
      "execution_count": null,
      "outputs": [
        {
          "output_type": "execute_result",
          "data": {
            "text/plain": [
              "2"
            ]
          },
          "metadata": {},
          "execution_count": 59
        }
      ]
    },
    {
      "cell_type": "code",
      "source": [
        "next(y)"
      ],
      "metadata": {
        "colab": {
          "base_uri": "https://localhost:8080/"
        },
        "id": "Zg17a0Znd_lC",
        "outputId": "75edf4e1-a12e-44a1-e877-6a78b25ba4e8"
      },
      "execution_count": null,
      "outputs": [
        {
          "output_type": "execute_result",
          "data": {
            "text/plain": [
              "3"
            ]
          },
          "metadata": {},
          "execution_count": 60
        }
      ]
    },
    {
      "cell_type": "code",
      "source": [
        "next(y)"
      ],
      "metadata": {
        "colab": {
          "base_uri": "https://localhost:8080/"
        },
        "id": "WHB5U2IyeAdk",
        "outputId": "2ded61d0-7011-4f58-e019-d43bafc48c74"
      },
      "execution_count": null,
      "outputs": [
        {
          "output_type": "execute_result",
          "data": {
            "text/plain": [
              "4"
            ]
          },
          "metadata": {},
          "execution_count": 61
        }
      ]
    },
    {
      "cell_type": "code",
      "source": [
        "next(y)"
      ],
      "metadata": {
        "colab": {
          "base_uri": "https://localhost:8080/",
          "height": 170
        },
        "id": "HLhKCGXYeBZs",
        "outputId": "945808a0-d93f-4db1-a4b4-1349b8504381"
      },
      "execution_count": null,
      "outputs": [
        {
          "output_type": "error",
          "ename": "StopIteration",
          "evalue": "ignored",
          "traceback": [
            "\u001b[0;31m---------------------------------------------------------------------------\u001b[0m",
            "\u001b[0;31mStopIteration\u001b[0m                             Traceback (most recent call last)",
            "\u001b[0;32m<ipython-input-62-81b9d2f0f16a>\u001b[0m in \u001b[0;36m<module>\u001b[0;34m\u001b[0m\n\u001b[0;32m----> 1\u001b[0;31m \u001b[0mnext\u001b[0m\u001b[0;34m(\u001b[0m\u001b[0my\u001b[0m\u001b[0;34m)\u001b[0m\u001b[0;34m\u001b[0m\u001b[0;34m\u001b[0m\u001b[0m\n\u001b[0m",
            "\u001b[0;31mStopIteration\u001b[0m: "
          ]
        }
      ]
    },
    {
      "cell_type": "markdown",
      "source": [
        "# Lambda & filter & map function"
      ],
      "metadata": {
        "id": "sUC6y04qOYEk"
      }
    },
    {
      "cell_type": "code",
      "source": [
        "# lambda"
      ],
      "metadata": {
        "id": "LKfK9w7Gj3z2"
      },
      "execution_count": null,
      "outputs": []
    },
    {
      "cell_type": "code",
      "source": [
        "def ntimes(x) :\n",
        "  return 2*x"
      ],
      "metadata": {
        "id": "E5cJIr1UOcZs"
      },
      "execution_count": null,
      "outputs": []
    },
    {
      "cell_type": "code",
      "source": [
        "ntimes(3)"
      ],
      "metadata": {
        "colab": {
          "base_uri": "https://localhost:8080/"
        },
        "id": "hFGSmQSlNwhO",
        "outputId": "4f3891b6-fdea-4c0e-ea31-50568075caeb"
      },
      "execution_count": null,
      "outputs": [
        {
          "output_type": "execute_result",
          "data": {
            "text/plain": [
              "6"
            ]
          },
          "metadata": {},
          "execution_count": 14
        }
      ]
    },
    {
      "cell_type": "code",
      "source": [
        "(lambda x:2*x)(3)"
      ],
      "metadata": {
        "colab": {
          "base_uri": "https://localhost:8080/"
        },
        "id": "1Uqgc8xcPwx3",
        "outputId": "751d8aad-8b3e-42d0-8654-4f8bbfe662d7"
      },
      "execution_count": null,
      "outputs": [
        {
          "output_type": "execute_result",
          "data": {
            "text/plain": [
              "6"
            ]
          },
          "metadata": {},
          "execution_count": 15
        }
      ]
    },
    {
      "cell_type": "code",
      "source": [
        "from math import *"
      ],
      "metadata": {
        "id": "yYb8SBfuQQnt"
      },
      "execution_count": null,
      "outputs": []
    },
    {
      "cell_type": "code",
      "source": [
        "def circle_area(r) :\n",
        "  return r*r*pi"
      ],
      "metadata": {
        "id": "p-_ToWtZQNyj"
      },
      "execution_count": null,
      "outputs": []
    },
    {
      "cell_type": "code",
      "source": [
        "circle_area(3)"
      ],
      "metadata": {
        "colab": {
          "base_uri": "https://localhost:8080/"
        },
        "id": "ugxLFevCP4xH",
        "outputId": "e701d94d-8d8d-4da9-962e-cc5249537ff2"
      },
      "execution_count": null,
      "outputs": [
        {
          "output_type": "execute_result",
          "data": {
            "text/plain": [
              "28.274333882308138"
            ]
          },
          "metadata": {},
          "execution_count": 18
        }
      ]
    },
    {
      "cell_type": "code",
      "source": [
        "# Map ft"
      ],
      "metadata": {
        "id": "akhuXBBUj1oi"
      },
      "execution_count": null,
      "outputs": []
    },
    {
      "cell_type": "code",
      "source": [
        "area=(lambda r:r*r*pi)"
      ],
      "metadata": {
        "id": "9JJ5HL9RQcr5"
      },
      "execution_count": null,
      "outputs": []
    },
    {
      "cell_type": "code",
      "source": [
        "area"
      ],
      "metadata": {
        "colab": {
          "base_uri": "https://localhost:8080/"
        },
        "id": "TOQKd19RqNM4",
        "outputId": "cc859813-3c04-42e4-b87c-af52d53149af"
      },
      "execution_count": null,
      "outputs": [
        {
          "output_type": "execute_result",
          "data": {
            "text/plain": [
              "<function __main__.<lambda>(r)>"
            ]
          },
          "metadata": {},
          "execution_count": 79
        }
      ]
    },
    {
      "cell_type": "code",
      "source": [
        "print(area)"
      ],
      "metadata": {
        "colab": {
          "base_uri": "https://localhost:8080/"
        },
        "id": "v3F84gJGp7d-",
        "outputId": "2b5a4eeb-c626-4e4e-fe09-b13ee676bed7"
      },
      "execution_count": null,
      "outputs": [
        {
          "output_type": "stream",
          "name": "stdout",
          "text": [
            "<function <lambda> at 0x7f1f23d2b700>\n"
          ]
        }
      ]
    },
    {
      "cell_type": "code",
      "source": [
        "area(3)"
      ],
      "metadata": {
        "colab": {
          "base_uri": "https://localhost:8080/"
        },
        "id": "bUfHg1UQp9wD",
        "outputId": "a906e2d4-703c-4ee0-8ab2-8603ffff62c0"
      },
      "execution_count": null,
      "outputs": [
        {
          "output_type": "execute_result",
          "data": {
            "text/plain": [
              "28.274333882308138"
            ]
          },
          "metadata": {},
          "execution_count": 80
        }
      ]
    },
    {
      "cell_type": "code",
      "source": [
        "area(4)"
      ],
      "metadata": {
        "colab": {
          "base_uri": "https://localhost:8080/"
        },
        "id": "mDzmqRCHqD75",
        "outputId": "2e729ccd-5875-451f-8482-d8f9b91f939a"
      },
      "execution_count": null,
      "outputs": [
        {
          "output_type": "execute_result",
          "data": {
            "text/plain": [
              "50.26548245743669"
            ]
          },
          "metadata": {},
          "execution_count": 81
        }
      ]
    },
    {
      "cell_type": "code",
      "source": [
        "def circle_area(r) :\n",
        "  return r*r*pi\n",
        "  \n",
        "r_list=[1,2,3,4]"
      ],
      "metadata": {
        "id": "gNzCJKqOhvG-"
      },
      "execution_count": null,
      "outputs": []
    },
    {
      "cell_type": "code",
      "source": [
        "r_list=[1,2,3,4,5]"
      ],
      "metadata": {
        "id": "1_SCJ8kDpVOW"
      },
      "execution_count": null,
      "outputs": []
    },
    {
      "cell_type": "code",
      "source": [
        "circle_areas=map(circle_area,r_list)"
      ],
      "metadata": {
        "id": "k7HTVf2NhZpy"
      },
      "execution_count": null,
      "outputs": []
    },
    {
      "cell_type": "code",
      "source": [
        "circle_areas"
      ],
      "metadata": {
        "colab": {
          "base_uri": "https://localhost:8080/"
        },
        "id": "mSZSuawkhyG7",
        "outputId": "46997da0-b864-4e37-f2fe-e101988ffe5d"
      },
      "execution_count": null,
      "outputs": [
        {
          "output_type": "execute_result",
          "data": {
            "text/plain": [
              "<map at 0x7f23a164f490>"
            ]
          },
          "metadata": {},
          "execution_count": 30
        }
      ]
    },
    {
      "cell_type": "code",
      "source": [
        "list(circle_areas)"
      ],
      "metadata": {
        "colab": {
          "base_uri": "https://localhost:8080/"
        },
        "id": "zubLG6DRh4aE",
        "outputId": "46f43b85-3318-4963-9924-0fb1a286f4e8"
      },
      "execution_count": null,
      "outputs": [
        {
          "output_type": "execute_result",
          "data": {
            "text/plain": [
              "[3.141592653589793,\n",
              " 12.566370614359172,\n",
              " 28.274333882308138,\n",
              " 50.26548245743669,\n",
              " 78.53981633974483]"
            ]
          },
          "metadata": {},
          "execution_count": 31
        }
      ]
    },
    {
      "cell_type": "code",
      "source": [
        "circle_areas2=list(map(circle_area,r_list))"
      ],
      "metadata": {
        "id": "uuhaIuGT-ex5"
      },
      "execution_count": null,
      "outputs": []
    },
    {
      "cell_type": "code",
      "source": [
        "circle_areas2"
      ],
      "metadata": {
        "colab": {
          "base_uri": "https://localhost:8080/"
        },
        "id": "zTdcC5VB-jmw",
        "outputId": "97aab6c3-3bdd-4798-95c8-10e4b617f339"
      },
      "execution_count": null,
      "outputs": [
        {
          "output_type": "execute_result",
          "data": {
            "text/plain": [
              "[3.141592653589793,\n",
              " 12.566370614359172,\n",
              " 28.274333882308138,\n",
              " 50.26548245743669,\n",
              " 78.53981633974483]"
            ]
          },
          "metadata": {},
          "execution_count": 33
        }
      ]
    },
    {
      "cell_type": "code",
      "source": [
        "area=(lambda r:r*r*pi)"
      ],
      "metadata": {
        "id": "Kp9YiitGqgRd"
      },
      "execution_count": null,
      "outputs": []
    },
    {
      "cell_type": "code",
      "source": [
        "# Map & Lambda function\n",
        "circle_areas=list(map(lambda r:r*r*pi,r_list))"
      ],
      "metadata": {
        "id": "TXA-acGIjOsB"
      },
      "execution_count": null,
      "outputs": []
    },
    {
      "cell_type": "code",
      "source": [
        "circle_areas"
      ],
      "metadata": {
        "colab": {
          "base_uri": "https://localhost:8080/"
        },
        "id": "mKK1emYojuhC",
        "outputId": "937bf5e0-6a85-42c9-d7f3-403897ba555e"
      },
      "execution_count": null,
      "outputs": [
        {
          "output_type": "execute_result",
          "data": {
            "text/plain": [
              "[3.141592653589793,\n",
              " 12.566370614359172,\n",
              " 28.274333882308138,\n",
              " 50.26548245743669,\n",
              " 78.53981633974483]"
            ]
          },
          "metadata": {},
          "execution_count": 35
        }
      ]
    },
    {
      "cell_type": "code",
      "source": [
        "def dddd(r) :\n",
        "   square = r*2\n",
        "   yyy = log(square)\n",
        "   dddddd\n",
        "   ddddd\n",
        "   ddd\n",
        "   circle_areas=list(map(lambda r:r*r*pi,r_list))\n",
        "   circle_areas_square = circle_areas * circle_areas\n",
        "   circle_bl = 5 * c * circle_areas_square\n",
        "\n",
        "  return target_value"
      ],
      "metadata": {
        "id": "qMHZYF1e_6ja"
      },
      "execution_count": null,
      "outputs": []
    },
    {
      "cell_type": "code",
      "source": [],
      "metadata": {
        "id": "aJl9nBUj_6Y8"
      },
      "execution_count": null,
      "outputs": []
    },
    {
      "cell_type": "code",
      "source": [
        "# filter"
      ],
      "metadata": {
        "id": "538xazjsj0Kv"
      },
      "execution_count": null,
      "outputs": []
    },
    {
      "cell_type": "code",
      "source": [
        "r_list"
      ],
      "metadata": {
        "colab": {
          "base_uri": "https://localhost:8080/"
        },
        "id": "42BKt7M9lyO1",
        "outputId": "9602ab19-7340-40e4-ae97-af8fba47dafd"
      },
      "execution_count": null,
      "outputs": [
        {
          "output_type": "execute_result",
          "data": {
            "text/plain": [
              "[1, 2, 3, 4, 5]"
            ]
          },
          "metadata": {},
          "execution_count": 36
        }
      ]
    },
    {
      "cell_type": "code",
      "source": [
        "def bigger10(r):\n",
        "  return r*r*pi>10"
      ],
      "metadata": {
        "id": "LWjZCigilIwj"
      },
      "execution_count": null,
      "outputs": []
    },
    {
      "cell_type": "code",
      "source": [
        "bigger10(r_list[0])"
      ],
      "metadata": {
        "colab": {
          "base_uri": "https://localhost:8080/"
        },
        "id": "RpGnIMxykuNK",
        "outputId": "037cdab6-5b5a-413d-da85-5b18444d5784"
      },
      "execution_count": null,
      "outputs": [
        {
          "output_type": "execute_result",
          "data": {
            "text/plain": [
              "False"
            ]
          },
          "metadata": {},
          "execution_count": 38
        }
      ]
    },
    {
      "cell_type": "code",
      "source": [
        "bigger10(r_list[1])"
      ],
      "metadata": {
        "colab": {
          "base_uri": "https://localhost:8080/"
        },
        "id": "vLf8TJf8FvAb",
        "outputId": "337c57e4-0bf0-4689-f669-1e3ef4f26ca8"
      },
      "execution_count": null,
      "outputs": [
        {
          "output_type": "execute_result",
          "data": {
            "text/plain": [
              "True"
            ]
          },
          "metadata": {},
          "execution_count": 39
        }
      ]
    },
    {
      "cell_type": "code",
      "source": [
        "filter(bigger10,r_list)"
      ],
      "metadata": {
        "colab": {
          "base_uri": "https://localhost:8080/"
        },
        "id": "r9FvMoPukwP4",
        "outputId": "709c79d0-9d32-4a5d-f606-851d9ea02755"
      },
      "execution_count": null,
      "outputs": [
        {
          "output_type": "execute_result",
          "data": {
            "text/plain": [
              "<filter at 0x7f23a164f550>"
            ]
          },
          "metadata": {},
          "execution_count": 40
        }
      ]
    },
    {
      "cell_type": "code",
      "source": [
        "list(filter(bigger10,r_list))"
      ],
      "metadata": {
        "colab": {
          "base_uri": "https://localhost:8080/"
        },
        "id": "8bByeGNMk4lM",
        "outputId": "4fbb7b9d-fe32-406f-b7b7-f05d67157efd"
      },
      "execution_count": null,
      "outputs": [
        {
          "output_type": "execute_result",
          "data": {
            "text/plain": [
              "[2, 3, 4, 5]"
            ]
          },
          "metadata": {},
          "execution_count": 41
        }
      ]
    },
    {
      "cell_type": "code",
      "source": [
        "# filter & lambda\n",
        "list(filter(lambda r : r*r*pi>10,r_list))"
      ],
      "metadata": {
        "colab": {
          "base_uri": "https://localhost:8080/"
        },
        "id": "XBPKwDqdoghj",
        "outputId": "9b964131-e6c0-4e44-e70a-734a49e8ec8d"
      },
      "execution_count": null,
      "outputs": [
        {
          "output_type": "execute_result",
          "data": {
            "text/plain": [
              "[2, 3, 4, 5]"
            ]
          },
          "metadata": {},
          "execution_count": 42
        }
      ]
    },
    {
      "cell_type": "markdown",
      "source": [
        "# READ a JSON file"
      ],
      "metadata": {
        "id": "1h2J1Cq6LdXB"
      }
    },
    {
      "cell_type": "code",
      "source": [
        "import json"
      ],
      "metadata": {
        "id": "CQ5praiFJCtK"
      },
      "execution_count": null,
      "outputs": []
    },
    {
      "cell_type": "code",
      "source": [
        "json_string ='''{\n",
        "    \"경력\":\"1. 부석고등학교 졸업\\r\\n2. 우송정보대학 졸업\\r\\n3. 더불어민주당 대덕구 지역위원회 수석부위원장\\r\\n4. 송촌동 주민자치회 분과장\\r\\n5. 송촌전통시장 상인회 총무\\r\\n6. 제9대 대덕구의회 의원\",\n",
        "    \"대수\":9,\"선거구\":\"가선거구\",\"선거구 지역\":\"오정동, 대화동, 법1동, 법2동\",\"영문 이름\":\"Kim Kihung\",\"의원 인사말\":\"\",\n",
        "    \"이름\":\"김기흥\",\n",
        "    \"이메일\":\"yjp6252@naver.com\",\n",
        "    \"전화번호\":\"\",\n",
        "    \"정당\":\"더불어민주당\",\n",
        "    \"직위\":\"윤리특별위원장\",\n",
        "    \"팩스번호\":\"\",\n",
        "    \"학력\":\"\",\n",
        "    \"한자\":\"金基興\"\n",
        "    }'''\n"
      ],
      "metadata": {
        "id": "01SHlMcebCb-"
      },
      "execution_count": null,
      "outputs": []
    },
    {
      "cell_type": "code",
      "source": [
        "type(json_string)"
      ],
      "metadata": {
        "colab": {
          "base_uri": "https://localhost:8080/"
        },
        "id": "1IC7oKZvTUua",
        "outputId": "69debef9-a3d8-4ed5-d262-523c63599dfa"
      },
      "execution_count": null,
      "outputs": [
        {
          "output_type": "execute_result",
          "data": {
            "text/plain": [
              "str"
            ]
          },
          "metadata": {},
          "execution_count": 3
        }
      ]
    },
    {
      "cell_type": "code",
      "source": [
        "# loads() 함수: JSON 문자열을 Python 딕셔너리 객체로 변환\n",
        "json_object = json.loads(json_string, strict=False)\n",
        "\n",
        "# JSONDecoder에서 문자열 안에 제어 문자(\\n, \\t, \\r, \\0)가 기본 값으로는 허용되지 않음\n",
        "# strict=False로 전달하면 해당 제어 문자를 Json Decoder에서 허용"
      ],
      "metadata": {
        "id": "OGghsIuFcYvv"
      },
      "execution_count": null,
      "outputs": []
    },
    {
      "cell_type": "code",
      "source": [
        "type(json_object)"
      ],
      "metadata": {
        "colab": {
          "base_uri": "https://localhost:8080/"
        },
        "id": "qQGpZTWLdIbU",
        "outputId": "e1b84ed5-e05c-4a06-83b7-cd4febf98682"
      },
      "execution_count": null,
      "outputs": [
        {
          "output_type": "execute_result",
          "data": {
            "text/plain": [
              "dict"
            ]
          },
          "metadata": {},
          "execution_count": 5
        }
      ]
    },
    {
      "cell_type": "code",
      "source": [
        "len(json_object)"
      ],
      "metadata": {
        "colab": {
          "base_uri": "https://localhost:8080/"
        },
        "id": "Hd7vIY56iOPb",
        "outputId": "4f4cc714-1c08-418f-ff78-dea51a9d40f6"
      },
      "execution_count": null,
      "outputs": [
        {
          "output_type": "execute_result",
          "data": {
            "text/plain": [
              "14"
            ]
          },
          "metadata": {},
          "execution_count": 6
        }
      ]
    },
    {
      "cell_type": "code",
      "source": [
        "json_object.get('이름')"
      ],
      "metadata": {
        "colab": {
          "base_uri": "https://localhost:8080/",
          "height": 36
        },
        "id": "u9RnspXMhx5H",
        "outputId": "0fbd2fa4-25b4-4f5b-eac6-ea84439fae5f"
      },
      "execution_count": null,
      "outputs": [
        {
          "output_type": "execute_result",
          "data": {
            "text/plain": [
              "'김기흥'"
            ],
            "application/vnd.google.colaboratory.intrinsic+json": {
              "type": "string"
            }
          },
          "metadata": {},
          "execution_count": 7
        }
      ]
    },
    {
      "cell_type": "code",
      "source": [
        "json_object.keys()"
      ],
      "metadata": {
        "colab": {
          "base_uri": "https://localhost:8080/"
        },
        "id": "wCidU7AliLlZ",
        "outputId": "eb13ad7f-a99e-4b80-88af-f262a1cd61b0"
      },
      "execution_count": null,
      "outputs": [
        {
          "output_type": "execute_result",
          "data": {
            "text/plain": [
              "dict_keys(['경력', '대수', '선거구', '선거구 지역', '영문 이름', '의원 인사말', '이름', '이메일', '전화번호', '정당', '직위', '팩스번호', '학력', '한자'])"
            ]
          },
          "metadata": {},
          "execution_count": 8
        }
      ]
    },
    {
      "cell_type": "code",
      "source": [
        "# dumps() 함수: Python 객체를 JSON 문자열로 변환, ensure_ascii = False :인코딩 옵션\n",
        "string = json.dumps(json_object, ensure_ascii = False)\n",
        "print(string)"
      ],
      "metadata": {
        "colab": {
          "base_uri": "https://localhost:8080/"
        },
        "id": "HCtOYXFWls-5",
        "outputId": "52fcf519-352a-498a-f52f-8ea629bab6d5"
      },
      "execution_count": null,
      "outputs": [
        {
          "output_type": "stream",
          "name": "stdout",
          "text": [
            "{\"경력\": \"1. 부석고등학교 졸업\\r\\n2. 우송정보대학 졸업\\r\\n3. 더불어민주당 대덕구 지역위원회 수석부위원장\\r\\n4. 송촌동 주민자치회 분과장\\r\\n5. 송촌전통시장 상인회 총무\\r\\n6. 제9대 대덕구의회 의원\", \"대수\": 9, \"선거구\": \"가선거구\", \"선거구 지역\": \"오정동, 대화동, 법1동, 법2동\", \"영문 이름\": \"Kim Kihung\", \"의원 인사말\": \"\", \"이름\": \"김기흥\", \"이메일\": \"yjp6252@naver.com\", \"전화번호\": \"\", \"정당\": \"더불어민주당\", \"직위\": \"윤리특별위원장\", \"팩스번호\": \"\", \"학력\": \"\", \"한자\": \"金基興\"}\n"
          ]
        }
      ]
    },
    {
      "cell_type": "code",
      "source": [
        "string"
      ],
      "metadata": {
        "colab": {
          "base_uri": "https://localhost:8080/",
          "height": 89
        },
        "id": "ETTkF7XqVHY9",
        "outputId": "263e6ad2-1159-456e-9544-9e3889874b26"
      },
      "execution_count": null,
      "outputs": [
        {
          "output_type": "execute_result",
          "data": {
            "text/plain": [
              "'{\"경력\": \"1. 부석고등학교 졸업\\\\r\\\\n2. 우송정보대학 졸업\\\\r\\\\n3. 더불어민주당 대덕구 지역위원회 수석부위원장\\\\r\\\\n4. 송촌동 주민자치회 분과장\\\\r\\\\n5. 송촌전통시장 상인회 총무\\\\r\\\\n6. 제9대 대덕구의회 의원\", \"대수\": 9, \"선거구\": \"가선거구\", \"선거구 지역\": \"오정동, 대화동, 법1동, 법2동\", \"영문 이름\": \"Kim Kihung\", \"의원 인사말\": \"\", \"이름\": \"김기흥\", \"이메일\": \"yjp6252@naver.com\", \"전화번호\": \"\", \"정당\": \"더불어민주당\", \"직위\": \"윤리특별위원장\", \"팩스번호\": \"\", \"학력\": \"\", \"한자\": \"金基興\"}'"
            ],
            "application/vnd.google.colaboratory.intrinsic+json": {
              "type": "string"
            }
          },
          "metadata": {},
          "execution_count": 10
        }
      ]
    },
    {
      "cell_type": "code",
      "source": [
        "type(string)"
      ],
      "metadata": {
        "colab": {
          "base_uri": "https://localhost:8080/"
        },
        "id": "RLgLN092VP1l",
        "outputId": "eea4d450-b988-4fbe-8ddf-a7adb63266ec"
      },
      "execution_count": null,
      "outputs": [
        {
          "output_type": "execute_result",
          "data": {
            "text/plain": [
              "str"
            ]
          },
          "metadata": {},
          "execution_count": 11
        }
      ]
    },
    {
      "cell_type": "code",
      "source": [
        "# Open json file & Return List / json.load\n",
        "with open('/content/drive/MyDrive/elice_Python1213/test.json', 'r') as f :\n",
        "    json_list = json.load(f)"
      ],
      "metadata": {
        "id": "NC2rS2grLkHW",
        "colab": {
          "base_uri": "https://localhost:8080/",
          "height": 205
        },
        "outputId": "42fc094b-53eb-4b55-b34d-26c85cd664b9"
      },
      "execution_count": null,
      "outputs": [
        {
          "output_type": "error",
          "ename": "FileNotFoundError",
          "evalue": "ignored",
          "traceback": [
            "\u001b[0;31m---------------------------------------------------------------------------\u001b[0m",
            "\u001b[0;31mFileNotFoundError\u001b[0m                         Traceback (most recent call last)",
            "\u001b[0;32m<ipython-input-12-24b24c78d736>\u001b[0m in \u001b[0;36m<cell line: 2>\u001b[0;34m()\u001b[0m\n\u001b[1;32m      1\u001b[0m \u001b[0;31m# Open json file & Return List / json.load\u001b[0m\u001b[0;34m\u001b[0m\u001b[0;34m\u001b[0m\u001b[0m\n\u001b[0;32m----> 2\u001b[0;31m \u001b[0;32mwith\u001b[0m \u001b[0mopen\u001b[0m\u001b[0;34m(\u001b[0m\u001b[0;34m'/content/drive/MyDrive/elice_Python1213/test.json'\u001b[0m\u001b[0;34m,\u001b[0m \u001b[0;34m'r'\u001b[0m\u001b[0;34m)\u001b[0m \u001b[0;32mas\u001b[0m \u001b[0mf\u001b[0m \u001b[0;34m:\u001b[0m\u001b[0;34m\u001b[0m\u001b[0;34m\u001b[0m\u001b[0m\n\u001b[0m\u001b[1;32m      3\u001b[0m     \u001b[0mjson_list\u001b[0m \u001b[0;34m=\u001b[0m \u001b[0mjson\u001b[0m\u001b[0;34m.\u001b[0m\u001b[0mload\u001b[0m\u001b[0;34m(\u001b[0m\u001b[0mf\u001b[0m\u001b[0;34m)\u001b[0m\u001b[0;34m\u001b[0m\u001b[0;34m\u001b[0m\u001b[0m\n",
            "\u001b[0;31mFileNotFoundError\u001b[0m: [Errno 2] No such file or directory: '/content/drive/MyDrive/elice_Python1213/test.json'"
          ]
        }
      ]
    },
    {
      "cell_type": "code",
      "source": [
        "type(json_list)"
      ],
      "metadata": {
        "colab": {
          "base_uri": "https://localhost:8080/"
        },
        "id": "6NtEUj4XXMKl",
        "outputId": "ee175aaa-f4a0-4bfb-d361-033db7812a87"
      },
      "execution_count": null,
      "outputs": [
        {
          "output_type": "execute_result",
          "data": {
            "text/plain": [
              "list"
            ]
          },
          "metadata": {},
          "execution_count": 37
        }
      ]
    },
    {
      "cell_type": "code",
      "source": [
        "len(json_list)"
      ],
      "metadata": {
        "colab": {
          "base_uri": "https://localhost:8080/"
        },
        "id": "rA_N0FHMXOT1",
        "outputId": "7779c490-2cb9-4ae0-fc48-4851e0662d9e"
      },
      "execution_count": null,
      "outputs": [
        {
          "output_type": "execute_result",
          "data": {
            "text/plain": [
              "8"
            ]
          },
          "metadata": {},
          "execution_count": 45
        }
      ]
    },
    {
      "cell_type": "code",
      "source": [
        "json_list"
      ],
      "metadata": {
        "colab": {
          "base_uri": "https://localhost:8080/"
        },
        "id": "T7wXZQnBa0QT",
        "outputId": "1c9c1108-f0e3-4f88-f374-927b4f8f8335"
      },
      "execution_count": null,
      "outputs": [
        {
          "output_type": "execute_result",
          "data": {
            "text/plain": [
              "[{'경력': '1. 부석고등학교 졸업\\r\\n2. 우송정보대학 졸업\\r\\n3. 더불어민주당 대덕구 지역위원회 수석부위원장\\r\\n4. 송촌동 주민자치회 분과장\\r\\n5. 송촌전통시장 상인회 총무\\r\\n6. 제9대 대덕구의회 의원',\n",
              "  '대수': 9,\n",
              "  '선거구': '가선거구',\n",
              "  '선거구 지역': '오정동, 대화동, 법1동, 법2동',\n",
              "  '영문 이름': 'Kim Kihung',\n",
              "  '의원 인사말': '',\n",
              "  '이름': '김기흥',\n",
              "  '이메일': 'yjp6252@naver.com',\n",
              "  '전화번호': '',\n",
              "  '정당': '더불어민주당',\n",
              "  '직위': '윤리특별위원장',\n",
              "  '팩스번호': '',\n",
              "  '학력': '',\n",
              "  '한자': '金基興'},\n",
              " {'경력': '1. 유성고등학교 졸업\\r\\n2. 한밭대학교 화학공학과 졸업\\r\\n3. 국민의힘 대덕구 당원협의회 사무국장\\r\\n4. 제20대 대통령선거 국민의힘 대덕구 선거대책위원회 종합상황본부장\\r\\n5. 제20대 대통령선거 국민의힘 대전시 선거대책위원회 종합운영부본부장\\r\\n6. 국민의힘 대전시당 대변인\\r\\n7. 제9대 대덕구의회 의원',\n",
              "  '대수': 9,\n",
              "  '선거구': '가선거구',\n",
              "  '선거구 지역': '오정동, 대화동, 법1동, 법2동',\n",
              "  '영문 이름': 'Lee Junkyu',\n",
              "  '의원 인사말': '',\n",
              "  '이름': '이준규',\n",
              "  '이메일': '2junkyu@naver.com',\n",
              "  '전화번호': '',\n",
              "  '정당': '국민의힘',\n",
              "  '직위': '행정복지위원장',\n",
              "  '팩스번호': '',\n",
              "  '학력': '',\n",
              "  '한자': '李峻圭'},\n",
              " {'경력': '1. 고등학교졸업학력검정고시\\r\\n2. 대청중학교 운영위원회 운영위원(전)\\r\\n3. ㈜크레딧컴퍼니 대표이사\\r\\n4. 석봉초등학교 운영위원회 부위원장\\r\\n5. 신탄진고등학교 학부모회 학부모회원\\r\\n6. 제9대 대덕구의회 의원',\n",
              "  '대수': 9,\n",
              "  '선거구': '나선거구',\n",
              "  '선거구 지역': '회덕동, 신탄진동, 석봉동, 목상동, 덕암동',\n",
              "  '영문 이름': 'You Seungyeon',\n",
              "  '의원 인사말': '',\n",
              "  '이름': '유승연',\n",
              "  '이메일': 'sintanzin@naver.com',\n",
              "  '전화번호': '',\n",
              "  '정당': '더불어민주당',\n",
              "  '직위': '예산결산특별위원장',\n",
              "  '팩스번호': '',\n",
              "  '학력': '',\n",
              "  '한자': '柳昇延'},\n",
              " {'경력': '1. 한밭대학교 경영학과 졸업\\r\\n 2. 새마을운동 대덕구지회장(전)\\r\\n 3. 바르게살기운동 대덕구 협의회장(전)\\r\\n 4. 제8대 대덕구의회 후반기 부의장\\r\\n 5. 제9대 대덕구의회 의원',\n",
              "  '대수': 9,\n",
              "  '선거구': '나선거구',\n",
              "  '선거구 지역': '회덕동, 신탄진동, 석봉동, 목상동, 덕암동',\n",
              "  '영문 이름': 'KIm Hongtae',\n",
              "  '의원 인사말': '',\n",
              "  '이름': '김홍태',\n",
              "  '이메일': 'kht5401@hanmail.net',\n",
              "  '전화번호': '',\n",
              "  '정당': '국민의힘',\n",
              "  '직위': '의장',\n",
              "  '팩스번호': '',\n",
              "  '학력': '',\n",
              "  '한자': '金洪台'},\n",
              " {'경력': '1. 한국방송통신대학교 교육학과 졸업\\r\\n 2. 대전대학교 대학원 스포츠의학과 재학\\r\\n 3. 설악칡냉면 대표(현)\\r\\n 4. 사)한국외식업중앙회 대덕구지부임원(현)\\r\\n 5. 위드 성인권센터 연구원(현)\\r\\n 6. 제9대 대덕구의회 의원',\n",
              "  '대수': 9,\n",
              "  '선거구': '나선거구',\n",
              "  '선거구 지역': '회덕동, 신탄진동, 석봉동, 목상동, 덕암동',\n",
              "  '영문 이름': 'Park Hyoseo',\n",
              "  '의원 인사말': '',\n",
              "  '이름': '박효서',\n",
              "  '이메일': 'hyoseo8831@naver.com',\n",
              "  '전화번호': '',\n",
              "  '정당': '더불어민주당',\n",
              "  '직위': '부의장',\n",
              "  '팩스번호': '',\n",
              "  '학력': '',\n",
              "  '한자': '朴孝緖'},\n",
              " {'경력': '1. 세종하이텍고등학교 졸업\\r\\n 2. 방송통신대학교 행정학과 졸업\\r\\n 3. 더불어민주당 대덕구지역위원회 사무국장(전)\\r\\n 4. 더불어민주당 대덕구지역위원회 자치분권위원장\\r\\n 5. 더불어민주당 대덕구 국회의원 박영순 대외협력특보\\r\\n 6. 제9대 대덕구의회 의원',\n",
              "  '대수': 9,\n",
              "  '선거구': '다선거구',\n",
              "  '선거구 지역': '송촌동, 중리동, 비래동',\n",
              "  '영문 이름': 'Jeon Seokkwang',\n",
              "  '의원 인사말': '',\n",
              "  '이름': '전석광',\n",
              "  '이메일': 'dasom632@naver.com',\n",
              "  '전화번호': '',\n",
              "  '정당': '더불어민주당',\n",
              "  '직위': '경제도시위원장',\n",
              "  '팩스번호': '',\n",
              "  '학력': '',\n",
              "  '한자': '全錫光'},\n",
              " {'경력': '1. 보문고등학교 졸업\\r\\n 2. 한남대학교 졸업\\r\\n 3. 제20대 대통령선거 국민의힘 대덕구 선거대책위원회 공동선거대책위원장\\r\\n 4. 제20대 대통령선거 국민의힘 대덕구 선거대책위원회 상황 제2본부장\\r\\n 5. 국민의힘 대덕구당협 청년부장\\r\\n 6. 제9대 대덕구의회 의원',\n",
              "  '대수': 9,\n",
              "  '선거구': '다선거구',\n",
              "  '선거구 지역': '송촌동, 중리동, 비래동',\n",
              "  '영문 이름': 'Jo Daewoong',\n",
              "  '의원 인사말': '',\n",
              "  '이름': '조대웅',\n",
              "  '이메일': 'ctwhihi@naver.com',\n",
              "  '전화번호': '',\n",
              "  '정당': '국민의힘',\n",
              "  '직위': '의회운영위원장',\n",
              "  '팩스번호': '',\n",
              "  '학력': '',\n",
              "  '한자': '趙大雄'},\n",
              " {'경력': '1. 공주여자고등학교 졸업\\r\\n2. 한국방송통신대학교 졸업\\r\\n3. 법1동 주민참여예산지역회의 위원장(전)\\r\\n4. 대덕구 새마을 부녀회장(전)\\r\\n5. 법1동 주민자치회 부회장(전)\\r\\n6. 으뜸새마을금고 부이사장(전)\\r\\n7. 국민의힘 대덕구 부위원장\\r\\n8. 제9대 대덕구의회 의원',\n",
              "  '대수': 9,\n",
              "  '선거구': '비례대표',\n",
              "  '선거구 지역': '',\n",
              "  '영문 이름': '',\n",
              "  '의원 인사말': '',\n",
              "  '이름': '양영자',\n",
              "  '이메일': 'diddudwk0417@hanmail.net',\n",
              "  '전화번호': '',\n",
              "  '정당': '국민의힘',\n",
              "  '직위': '의원',\n",
              "  '팩스번호': '',\n",
              "  '학력': '',\n",
              "  '한자': ''}]"
            ]
          },
          "metadata": {},
          "execution_count": 43
        }
      ]
    },
    {
      "cell_type": "code",
      "source": [
        "json_object=json_list[0]"
      ],
      "metadata": {
        "id": "s9MUEaocW2rG"
      },
      "execution_count": null,
      "outputs": []
    },
    {
      "cell_type": "code",
      "source": [
        "type(json_object)"
      ],
      "metadata": {
        "colab": {
          "base_uri": "https://localhost:8080/"
        },
        "id": "Aw4fQFXeXjwj",
        "outputId": "94dc51e5-ca21-4fa1-cda0-585325fbea18"
      },
      "execution_count": null,
      "outputs": [
        {
          "output_type": "execute_result",
          "data": {
            "text/plain": [
              "dict"
            ]
          },
          "metadata": {},
          "execution_count": 44
        }
      ]
    },
    {
      "cell_type": "code",
      "source": [
        "# Open json file & Return List / json.load\n",
        "with open('/content/drive/MyDrive/elice_Python1213/test.json', 'r') as f :\n",
        "    json_list = json.load(f)"
      ],
      "metadata": {
        "id": "Pe0dhYNZFcur"
      },
      "execution_count": null,
      "outputs": []
    },
    {
      "cell_type": "code",
      "source": [
        "import requests\n",
        "\n",
        "#구글드라이브 json 공유 파일 주소\n",
        "url=\"https://drive.google.com/file/d/1zO6IyqI_vlruHL9nbfoEUNLarJT9syYu/view?usp=share_link\" \n",
        "# 읽어올 수 있는 형태로 url 수정\n",
        "path='https://drive.google.com/uc?id='+url.split('/')[-2]\n",
        "\n",
        "# url에서 json 형식으로 읽어오기\n",
        "json_list2 = requests.get(path).json()"
      ],
      "metadata": {
        "id": "cRfEzrI7MVCv"
      },
      "execution_count": null,
      "outputs": []
    },
    {
      "cell_type": "code",
      "source": [
        "json_object=json_list2[0]"
      ],
      "metadata": {
        "id": "WJyDiyJrFjvM"
      },
      "execution_count": null,
      "outputs": []
    },
    {
      "cell_type": "code",
      "source": [
        "type(json_object)"
      ],
      "metadata": {
        "colab": {
          "base_uri": "https://localhost:8080/"
        },
        "id": "PGH2zT3rkU44",
        "outputId": "f68b6cd6-1097-4656-cda1-d962df299bca"
      },
      "execution_count": null,
      "outputs": [
        {
          "output_type": "execute_result",
          "data": {
            "text/plain": [
              "dict"
            ]
          },
          "metadata": {},
          "execution_count": 41
        }
      ]
    },
    {
      "cell_type": "code",
      "source": [
        "json_object"
      ],
      "metadata": {
        "colab": {
          "base_uri": "https://localhost:8080/"
        },
        "id": "UmjbrEVMFuKo",
        "outputId": "d15fe312-d34a-4208-950d-a31d9470689c"
      },
      "execution_count": null,
      "outputs": [
        {
          "output_type": "execute_result",
          "data": {
            "text/plain": [
              "{'경력': '1. 부석고등학교 졸업\\r\\n2. 우송정보대학 졸업\\r\\n3. 더불어민주당 대덕구 지역위원회 수석부위원장\\r\\n4. 송촌동 주민자치회 분과장\\r\\n5. 송촌전통시장 상인회 총무\\r\\n6. 제9대 대덕구의회 의원',\n",
              " '대수': 9,\n",
              " '선거구': '가선거구',\n",
              " '선거구 지역': '오정동, 대화동, 법1동, 법2동',\n",
              " '영문 이름': 'Kim Kihung',\n",
              " '의원 인사말': '',\n",
              " '이름': '김기흥',\n",
              " '이메일': 'yjp6252@naver.com',\n",
              " '전화번호': '',\n",
              " '정당': '더불어민주당',\n",
              " '직위': '윤리특별위원장',\n",
              " '팩스번호': '',\n",
              " '학력': '',\n",
              " '한자': '金基興'}"
            ]
          },
          "metadata": {},
          "execution_count": 42
        }
      ]
    },
    {
      "cell_type": "markdown",
      "source": [
        "# new chap"
      ],
      "metadata": {
        "id": "q3VmuJvL8L55"
      }
    },
    {
      "cell_type": "code",
      "source": [
        "a=1"
      ],
      "metadata": {
        "id": "GzjCf5_v8N6H"
      },
      "execution_count": null,
      "outputs": []
    },
    {
      "cell_type": "code",
      "source": [
        "a=2"
      ],
      "metadata": {
        "id": "_kkBl2PL8KG6"
      },
      "execution_count": null,
      "outputs": []
    }
  ]
}